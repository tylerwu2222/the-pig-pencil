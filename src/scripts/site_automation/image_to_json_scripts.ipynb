{
 "cells": [
  {
   "cell_type": "code",
   "execution_count": 13,
   "metadata": {},
   "outputs": [],
   "source": [
    "import os\n",
    "import json\n",
    "import pandas as pd\n",
    "import openpyxl\n",
    "from openpyxl.utils.dataframe import dataframe_to_rows\n",
    "from openpyxl.utils import get_column_letter\n",
    "from datetime import datetime\n",
    "import numpy as np"
   ]
  },
  {
   "attachments": {},
   "cell_type": "markdown",
   "metadata": {},
   "source": [
    "## Art Images"
   ]
  },
  {
   "attachments": {},
   "cell_type": "markdown",
   "metadata": {},
   "source": [
    "Images in art folders --> add filenames to art_image_paths json"
   ]
  },
  {
   "cell_type": "code",
   "execution_count": 8,
   "metadata": {},
   "outputs": [],
   "source": [
    "root = '../../../public/img/art/'\n",
    "\n",
    "art_folders = os.listdir(root)\n",
    "art_folders\n",
    "art_folders_dict = {}\n",
    "for folder in art_folders:\n",
    "    if os.path.isdir(os.path.join(root,folder)):\n",
    "        folder_files = os.listdir(os.path.join(root,folder))\n",
    "        art_folders_dict[folder] = folder_files\n",
    "# art_folders_dict\n",
    "with open(\"../../page_data/art_image_data/art_image_paths.json\", \"w\") as outfile:\n",
    "    json.dump(art_folders_dict, outfile)"
   ]
  },
  {
   "cell_type": "code",
   "execution_count": 2,
   "metadata": {},
   "outputs": [
    {
     "data": {
      "text/plain": [
       "['0bw (0).jpg',\n",
       " '0bw (1).jpg',\n",
       " '0bw (10).jpg',\n",
       " '0bw (11).jpg',\n",
       " '0bw (12).jpg',\n",
       " '0bw (13).jpg',\n",
       " '0bw (14).jpg',\n",
       " '0bw (15).jpg',\n",
       " '0bw (16).jpg',\n",
       " '0bw (2).jpg',\n",
       " '0bw (3).jpg',\n",
       " '0bw (4).jpg',\n",
       " '0bw (5).jpg',\n",
       " '0bw (6).jpg',\n",
       " '0bw (7).jpg',\n",
       " '0bw (8).jpg',\n",
       " '0bw (9).jpg',\n",
       " '1bwc (1).jpg',\n",
       " '1bwc (11).jpg',\n",
       " '1bwc (12).jpg',\n",
       " '1bwc (13).jpg',\n",
       " '1bwc (14).jpg',\n",
       " '1bwc (15).jpg',\n",
       " '1bwc (16).jpg',\n",
       " '1bwc (17).jpg',\n",
       " '1bwc (2).jpg',\n",
       " '1bwc (3).jpg',\n",
       " '1bwc (4).jpg',\n",
       " '1bwc (5).jpg',\n",
       " '1bwc (6).jpg',\n",
       " '1bwc (7).jpg',\n",
       " '1bwc (8).jpg',\n",
       " '1bwc (9).jpg',\n",
       " '2c (1).jpg',\n",
       " '2c (10).jpg',\n",
       " '2c (11).jpg',\n",
       " '2c (12).jpg',\n",
       " '2c (13).jpg',\n",
       " '2c (14).jpg',\n",
       " '2c (15).jpg',\n",
       " '2c (16).jpg',\n",
       " '2c (17).jpg',\n",
       " '2c (18).jpg',\n",
       " '2c (19).jpg',\n",
       " '2c (2).jpg',\n",
       " '2c (20).jpg',\n",
       " '2c (21).jpg',\n",
       " '2c (22).jpg',\n",
       " '2c (23).jpg',\n",
       " '2c (24).jpg',\n",
       " '2c (25).jpg',\n",
       " '2c (26).jpg',\n",
       " '2c (27).jpg',\n",
       " '2c (28).jpg',\n",
       " '2c (29).jpg',\n",
       " '2c (3).jpg',\n",
       " '2c (30).jpg',\n",
       " '2c (31).jpg',\n",
       " '2c (4).jpg',\n",
       " '2c (5).jpg',\n",
       " '2c (6).jpg',\n",
       " '2c (7).jpg',\n",
       " '2c (8).jpg',\n",
       " '2c (9).jpg']"
      ]
     },
     "execution_count": 2,
     "metadata": {},
     "output_type": "execute_result"
    }
   ],
   "source": [
    "root = '../../public/img/me/portfolio/art_thumbnail/'\n",
    "art_images = os.listdir(root)\n",
    "art_images"
   ]
  },
  {
   "attachments": {},
   "cell_type": "markdown",
   "metadata": {},
   "source": [
    "[NEEDS UPDATE] add art descriptions to art_images json"
   ]
  },
  {
   "cell_type": "code",
   "execution_count": 62,
   "metadata": {},
   "outputs": [
    {
     "name": "stdout",
     "output_type": "stream",
     "text": [
      "page alphabet_deities\n",
      "page dtiys\n",
      "page fan_art\n",
      "page inktober\n",
      "page landscapes\n",
      "page original_digital\n",
      "page photography_bird\n",
      "page photography_landscape\n",
      "page photography_random\n",
      "page sketches\n"
     ]
    }
   ],
   "source": [
    "# add new filenames to excel file, with blank desc for new files, then sort alphabetically\n",
    "# desc = pd.read_excel('../site_data/art_descriptions.xlsx')\n",
    "with open(\"../site_data/art_image_paths.json\", \"r\") as file:\n",
    "    art_paths_json = json.load(file)\n",
    "    files = [element for sublist in list(art_paths_json.values()) for element in sublist]\n",
    "    # print(art_paths_json)\n",
    "\n",
    "art_excel = '../site_data/art_descriptions.xlsx'\n",
    "wb = openpyxl.load_workbook(art_excel)\n",
    "\n",
    "curr_year = '2023'\n",
    "\n",
    "for page in list(art_paths_json):\n",
    "    print('page',page)\n",
    "    # wb.create_sheet(page)\n",
    "    # wb.save(art_excel)\n",
    "    \n",
    "    # get past filenames\n",
    "    existing_df = pd.read_excel(art_excel, engine='openpyxl', sheet_name=page)\n",
    "    existing_filenames = list(existing_df.filename)\n",
    "    # print('exist\\n',existing_filenames)\n",
    "\n",
    "    # get new filenames\n",
    "    all_new_filenames = art_paths_json[page]\n",
    "    # print(all_new_filenames)\n",
    "    new_filenames = [(i,f) for (i,f) in enumerate(all_new_filenames) if f not in existing_filenames]\n",
    "    # print('new_files',new_filenames)\n",
    "\n",
    "    # for v in list(ws.values):\n",
    "    #     print(v)\n",
    "    # print('\\n')\n",
    "\n",
    "    # insert new filenames into existing df\n",
    "    # k=1\n",
    "    ws = wb[page]\n",
    "    for (i,f) in new_filenames:\n",
    "        data = [f,curr_year,'']\n",
    "        ws.insert_rows(i+2)\n",
    "        for col, val in enumerate(data):\n",
    "            ws.cell(row=i+2, column=col+1, value=val)\n",
    "    # for v in list(ws.values):\n",
    "    #     print(v)\n",
    "    \n",
    "# save new sheets to excel\n",
    "wb.save(art_excel)"
   ]
  },
  {
   "cell_type": "code",
   "execution_count": 61,
   "metadata": {},
   "outputs": [],
   "source": [
    "# convert excel to new json\n",
    "new_art_json = {}\n",
    "for page in art_paths_json:\n",
    "    excel_data_df = pd.read_excel(art_excel, sheet_name=page)\n",
    "    new_art_json[page] = excel_data_df.to_json(orient='records')\n",
    "\n",
    "# json_dict = json.loads(json.dumps(new_art_json,indent=4))\n",
    "# print(json_dict['landscapes'])\n",
    "with open('../site_data/art_images.json', 'w') as json_file:\n",
    "    json.dump(new_art_json, json_file)"
   ]
  },
  {
   "cell_type": "markdown",
   "metadata": {},
   "source": [
    "Update art_sections json"
   ]
  },
  {
   "cell_type": "code",
   "execution_count": 27,
   "metadata": {},
   "outputs": [],
   "source": [
    "def get_most_recently_modified_file(folder_path):\n",
    "    # Get a list of all files in the folder\n",
    "    files = [os.path.join(folder_path, file) for file in os.listdir(\n",
    "        folder_path) if os.path.isfile(os.path.join(folder_path, file))]\n",
    "\n",
    "    # Check if the folder is not empty\n",
    "    if not files:\n",
    "        return None\n",
    "\n",
    "    # Get the most recently modified file\n",
    "    most_recent_date = max(os.path.getmtime(file) for file in files)\n",
    "\n",
    "    formatted_date = datetime.fromtimestamp(\n",
    "        most_recent_date).strftime('%#m/%#d/%Y')\n",
    "\n",
    "    return formatted_date\n",
    "\n",
    "def snake_case_to_title_case(snake_case_string):\n",
    "    words = snake_case_string.split('_')\n",
    "    title_case_words = [word.capitalize() for word in words]\n",
    "    title_case_string = ' '.join(title_case_words)\n",
    "    return title_case_string"
   ]
  },
  {
   "cell_type": "code",
   "execution_count": 30,
   "metadata": {},
   "outputs": [],
   "source": [
    "root = '../../../public/img/art/'\n",
    "\n",
    "art_folders = os.listdir(root)\n",
    "art_folders\n",
    "art_folders_LoD = []\n",
    "for folder in art_folders:\n",
    "    folder_path = os.path.join(root,folder)\n",
    "    if os.path.isdir(folder_path):\n",
    "        folder_metadata = {}\n",
    "        folder_metadata['Title'] = snake_case_to_title_case(folder)\n",
    "        folder_metadata['LastUpdated'] = get_most_recently_modified_file(folder_path)\n",
    "        folder_metadata['Author'] = 'Tyler Wu'\n",
    "        folder_metadata['FileName'] = folder\n",
    "        folder_metadata['FileNameNoExt'] = folder\n",
    "        folder_metadata['Thumbnail'] = folder + '.png'\n",
    "        art_folders_LoD.append(folder_metadata)\n",
    "        # folder_files = os.listdir(os.path.join(root,folder))\n",
    "        # art_folders_dict[folder] = folder_files\n",
    "# art_folders_LoD\n",
    "with open(\"../../page_data/art_sections.json\", \"w\") as outfile:\n",
    "    json.dump(art_folders_LoD, outfile)"
   ]
  },
  {
   "attachments": {},
   "cell_type": "markdown",
   "metadata": {},
   "source": [
    "## Home Mosaic"
   ]
  },
  {
   "attachments": {},
   "cell_type": "markdown",
   "metadata": {},
   "source": [
    "general fn for converting media to json file"
   ]
  },
  {
   "cell_type": "code",
   "execution_count": 2,
   "metadata": {},
   "outputs": [],
   "source": [
    "def media_to_json(root,outfile,nested=0):\n",
    "    medias = os.listdir(root)\n",
    "    # print(medias)\n",
    "    if nested:\n",
    "        media_dict = {}\n",
    "        for media in medias:\n",
    "            sub_medias = os.listdir(os.path.join(root,media))\n",
    "            media_dict[media] = sub_medias\n",
    "        print(media_dict)\n",
    "        with open(outfile, \"w\") as f:\n",
    "            json.dump(media_dict, f)"
   ]
  },
  {
   "attachments": {},
   "cell_type": "markdown",
   "metadata": {},
   "source": [
    "add home mosaic images to json"
   ]
  },
  {
   "cell_type": "code",
   "execution_count": 3,
   "metadata": {},
   "outputs": [
    {
     "name": "stdout",
     "output_type": "stream",
     "text": [
      "{'art': ['babyfaces.png', 'BerkeleyMarina.jpg', 'china.lily.pond2.png', 'china.town.parking2.jpg', 'DemonDude.jpg', 'erikly1.jpg', 'garfield.ave.trees.jpg', 'Giannis.jpg', 'Gus.jpg', 'Jawas.jpg', 'Kawhi.jpg', 'koi.jpg', 'mrmattzan1.jpg', 'OaklandBay.jpg', 'SantaMonicaBrocolliTrees.jpg', 'Sheriff.jpg', 'thiago1.jpg', 'Titan.jpg', 'well.worth.lot2.png', 'WestwoodIntersection.jpg'], 'code': ['fantasy_scoring.png', 'my_team.png', 'NASHboard1.png', 'player_display.png', 'player_faceted_search.png', 'python_web_scraping_ultimate_guide.png', 'yt_tut.png'], 'data': ['fantano1.png', 'fantano2.png', 'Geocheloneplatynota.jpg', 'Gopherusagassizii.jpg', 'IND-logo.png', 'Kinixyserosa.jpg', 'LAL-logo.png', 'nba1.png', 'nyt_mini_scores3.png', 'POR-logo.png', 'Testudohorsfieldii.jpg', 'tort1.png', 'tortoise_taxonomy1.png'], 'me': ['blokes (1).jpg', 'blokes (2).jpg', 'blokes (3).jpg', 'hoop.jpg', 'me (1).jpg', 'me (2).jpg', 'me.jpg', 'me.png', 'me2.png', 'me3.jpg', 'me3.png', 'pigpencil.png', 'sirs.jpg', 'son1.jpg', 'son2.jpg', 'son3.jpg'], 'writing': ['beef.png', 'beef_everywhere_all_at_once.png', 'berk_nature1.png', 'berk_nature2.png', 'eye.png', 'leaf.png', 'self_esteem.png', 'self_esteem1.png', 'self_esteem2.png', 'writing (2).png', 'writing.png']}\n"
     ]
    }
   ],
   "source": [
    "media_to_json('../../public/img/home_mosaic','../site_data/home_mosaic_images.json',1)"
   ]
  }
 ],
 "metadata": {
  "kernelspec": {
   "display_name": "Python 3.9.12 ('base')",
   "language": "python",
   "name": "python3"
  },
  "language_info": {
   "codemirror_mode": {
    "name": "ipython",
    "version": 3
   },
   "file_extension": ".py",
   "mimetype": "text/x-python",
   "name": "python",
   "nbconvert_exporter": "python",
   "pygments_lexer": "ipython3",
   "version": "3.10.11"
  },
  "orig_nbformat": 4,
  "vscode": {
   "interpreter": {
    "hash": "0420d7d8aef4f0cc439acea0c78cc7786074a26bb4830ab7d5d8dcbb2e116359"
   }
  }
 },
 "nbformat": 4,
 "nbformat_minor": 2
}
