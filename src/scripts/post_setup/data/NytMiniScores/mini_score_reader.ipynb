{
 "cells": [
  {
   "cell_type": "code",
   "execution_count": 21,
   "metadata": {},
   "outputs": [],
   "source": [
    "import pandas as pd\n",
    "\n",
    "from PIL import Image\n",
    "from pytesseract import pytesseract\n",
    "\n",
    "import os\n",
    "\n",
    "import string\n",
    "import re"
   ]
  },
  {
   "cell_type": "code",
   "execution_count": 13,
   "metadata": {},
   "outputs": [],
   "source": [
    "tess_path = \"C:\\Program Files\\Tesseract-OCR\"\n",
    "pytesseract.tesseract_cmd = os.path.join(tess_path,'tesseract.exe')\n",
    "img_path = \"screenshots\"\n",
    "imgs = os.listdir(img_path)"
   ]
  },
  {
   "cell_type": "code",
   "execution_count": 32,
   "metadata": {},
   "outputs": [],
   "source": [
    "usernames = ['gnome','andyvo','speckled mug','jack-o-pie','megh']\n",
    "codes = list(string.ascii_lowercase)[:5] "
   ]
  },
  {
   "cell_type": "code",
   "execution_count": 28,
   "metadata": {},
   "outputs": [
    {
     "data": {
      "text/plain": [
       "160"
      ]
     },
     "execution_count": 28,
     "metadata": {},
     "output_type": "execute_result"
    }
   ],
   "source": [
    "len(imgs)"
   ]
  },
  {
   "cell_type": "code",
   "execution_count": 56,
   "metadata": {},
   "outputs": [
    {
     "name": "stdout",
     "output_type": "stream",
     "text": [
      "0\n",
      "10\n",
      "20\n",
      "30\n",
      "40\n",
      "50\n",
      "60\n",
      "70\n",
      "80\n",
      "90\n",
      "100\n",
      "110\n",
      "120\n",
      "130\n",
      "140\n",
      "150\n"
     ]
    },
    {
     "data": {
      "text/plain": [
       "[['September 26, 2022', '00:52', '01:10', '01:37', None, None],\n",
       " ['September 27, 2022', '00:37', '01:01', '00:36', None, None]]"
      ]
     },
     "execution_count": 56,
     "metadata": {},
     "output_type": "execute_result"
    }
   ],
   "source": [
    "# load images -> grab text\n",
    "rows = []\n",
    "for i,img in enumerate(imgs):\n",
    "    \n",
    "    if i % 10 == 0:\n",
    "        print(i)\n",
    "\n",
    "    # get text from image\n",
    "    img = Image.open(os.path.join(img_path,img))\n",
    "    text = pytesseract.image_to_string(img)\n",
    "    # print(text,'\\n')\n",
    "\n",
    "    row = []\n",
    "    # get date\n",
    "    date = re.findall('day\\s*(\\D+\\s{1}\\d+,\\s{1}\\d+)',text)[0]\n",
    "    row.append(date)\n",
    "\n",
    "    # get completion times\n",
    "    for un in usernames:\n",
    "        completion_time = re.findall(un + '\\s{1}\\S*\\s*(\\d{2}:\\d{2})',text)[0] if  re.findall(un + '\\s{1}\\S*\\s*(\\d{2}:\\d{2})',text) else None\n",
    "        row.append(completion_time)\n",
    "    rows.append(row)\n",
    "\n",
    "rows[:2]"
   ]
  },
  {
   "cell_type": "code",
   "execution_count": 70,
   "metadata": {},
   "outputs": [],
   "source": [
    "def min_to_sec(time):\n",
    "    if time:\n",
    "        mins,secs = [int(i) for i in time.split(':')]\n",
    "        return int(mins * 60 + secs)\n",
    "    else:\n",
    "        return time"
   ]
  },
  {
   "cell_type": "code",
   "execution_count": 64,
   "metadata": {},
   "outputs": [
    {
     "data": {
      "text/plain": [
       "174"
      ]
     },
     "execution_count": 64,
     "metadata": {},
     "output_type": "execute_result"
    }
   ],
   "source": [
    "min_to_sec('2:54')"
   ]
  },
  {
   "cell_type": "code",
   "execution_count": 76,
   "metadata": {},
   "outputs": [
    {
     "data": {
      "text/html": [
       "<div>\n",
       "<style scoped>\n",
       "    .dataframe tbody tr th:only-of-type {\n",
       "        vertical-align: middle;\n",
       "    }\n",
       "\n",
       "    .dataframe tbody tr th {\n",
       "        vertical-align: top;\n",
       "    }\n",
       "\n",
       "    .dataframe thead th {\n",
       "        text-align: right;\n",
       "    }\n",
       "</style>\n",
       "<table border=\"1\" class=\"dataframe\">\n",
       "  <thead>\n",
       "    <tr style=\"text-align: right;\">\n",
       "      <th></th>\n",
       "      <th>date</th>\n",
       "      <th>gnome</th>\n",
       "      <th>andyvo</th>\n",
       "      <th>speckled mug</th>\n",
       "      <th>jack-o-pie</th>\n",
       "      <th>megh</th>\n",
       "    </tr>\n",
       "  </thead>\n",
       "  <tbody>\n",
       "    <tr>\n",
       "      <th>0</th>\n",
       "      <td>September 26, 2022</td>\n",
       "      <td>00:52</td>\n",
       "      <td>01:10</td>\n",
       "      <td>01:37</td>\n",
       "      <td>None</td>\n",
       "      <td>None</td>\n",
       "    </tr>\n",
       "    <tr>\n",
       "      <th>1</th>\n",
       "      <td>September 27, 2022</td>\n",
       "      <td>00:37</td>\n",
       "      <td>01:01</td>\n",
       "      <td>00:36</td>\n",
       "      <td>None</td>\n",
       "      <td>None</td>\n",
       "    </tr>\n",
       "    <tr>\n",
       "      <th>2</th>\n",
       "      <td>September 28, 2022</td>\n",
       "      <td>00:40</td>\n",
       "      <td>00:56</td>\n",
       "      <td>00:32</td>\n",
       "      <td>None</td>\n",
       "      <td>None</td>\n",
       "    </tr>\n",
       "    <tr>\n",
       "      <th>3</th>\n",
       "      <td>September 29, 2022</td>\n",
       "      <td>01:07</td>\n",
       "      <td>01:08</td>\n",
       "      <td>01:27</td>\n",
       "      <td>None</td>\n",
       "      <td>None</td>\n",
       "    </tr>\n",
       "    <tr>\n",
       "      <th>4</th>\n",
       "      <td>October 1, 2022</td>\n",
       "      <td>08:27</td>\n",
       "      <td>04:13</td>\n",
       "      <td>03:31</td>\n",
       "      <td>None</td>\n",
       "      <td>None</td>\n",
       "    </tr>\n",
       "  </tbody>\n",
       "</table>\n",
       "</div>"
      ],
      "text/plain": [
       "                 date  gnome andyvo speckled mug jack-o-pie  megh\n",
       "0  September 26, 2022  00:52  01:10        01:37       None  None\n",
       "1  September 27, 2022  00:37  01:01        00:36       None  None\n",
       "2  September 28, 2022  00:40  00:56        00:32       None  None\n",
       "3  September 29, 2022  01:07  01:08        01:27       None  None\n",
       "4     October 1, 2022  08:27  04:13        03:31       None  None"
      ]
     },
     "execution_count": 76,
     "metadata": {},
     "output_type": "execute_result"
    }
   ],
   "source": [
    "# data = pd.DataFrame(columns=['date'] + usernames,data=rows)\n",
    "data = pd.DataFrame(columns=['date'] + codes,data=rows)\n",
    "data.head()"
   ]
  },
  {
   "cell_type": "code",
   "execution_count": 72,
   "metadata": {},
   "outputs": [
    {
     "data": {
      "text/html": [
       "<div>\n",
       "<style scoped>\n",
       "    .dataframe tbody tr th:only-of-type {\n",
       "        vertical-align: middle;\n",
       "    }\n",
       "\n",
       "    .dataframe tbody tr th {\n",
       "        vertical-align: top;\n",
       "    }\n",
       "\n",
       "    .dataframe thead th {\n",
       "        text-align: right;\n",
       "    }\n",
       "</style>\n",
       "<table border=\"1\" class=\"dataframe\">\n",
       "  <thead>\n",
       "    <tr style=\"text-align: right;\">\n",
       "      <th></th>\n",
       "      <th>date</th>\n",
       "      <th>gnome</th>\n",
       "      <th>andyvo</th>\n",
       "      <th>speckled mug</th>\n",
       "      <th>jack-o-pie</th>\n",
       "      <th>megh</th>\n",
       "    </tr>\n",
       "  </thead>\n",
       "  <tbody>\n",
       "    <tr>\n",
       "      <th>0</th>\n",
       "      <td>September 26, 2022</td>\n",
       "      <td>52</td>\n",
       "      <td>70</td>\n",
       "      <td>97</td>\n",
       "      <td>&lt;NA&gt;</td>\n",
       "      <td>&lt;NA&gt;</td>\n",
       "    </tr>\n",
       "    <tr>\n",
       "      <th>1</th>\n",
       "      <td>September 27, 2022</td>\n",
       "      <td>37</td>\n",
       "      <td>61</td>\n",
       "      <td>36</td>\n",
       "      <td>&lt;NA&gt;</td>\n",
       "      <td>&lt;NA&gt;</td>\n",
       "    </tr>\n",
       "    <tr>\n",
       "      <th>2</th>\n",
       "      <td>September 28, 2022</td>\n",
       "      <td>40</td>\n",
       "      <td>56</td>\n",
       "      <td>32</td>\n",
       "      <td>&lt;NA&gt;</td>\n",
       "      <td>&lt;NA&gt;</td>\n",
       "    </tr>\n",
       "    <tr>\n",
       "      <th>3</th>\n",
       "      <td>September 29, 2022</td>\n",
       "      <td>67</td>\n",
       "      <td>68</td>\n",
       "      <td>87</td>\n",
       "      <td>&lt;NA&gt;</td>\n",
       "      <td>&lt;NA&gt;</td>\n",
       "    </tr>\n",
       "    <tr>\n",
       "      <th>4</th>\n",
       "      <td>October 1, 2022</td>\n",
       "      <td>507</td>\n",
       "      <td>253</td>\n",
       "      <td>211</td>\n",
       "      <td>&lt;NA&gt;</td>\n",
       "      <td>&lt;NA&gt;</td>\n",
       "    </tr>\n",
       "  </tbody>\n",
       "</table>\n",
       "</div>"
      ],
      "text/plain": [
       "                 date  gnome  andyvo  speckled mug  jack-o-pie  megh\n",
       "0  September 26, 2022     52      70            97        <NA>  <NA>\n",
       "1  September 27, 2022     37      61            36        <NA>  <NA>\n",
       "2  September 28, 2022     40      56            32        <NA>  <NA>\n",
       "3  September 29, 2022     67      68            87        <NA>  <NA>\n",
       "4     October 1, 2022    507     253           211        <NA>  <NA>"
      ]
     },
     "execution_count": 72,
     "metadata": {},
     "output_type": "execute_result"
    }
   ],
   "source": [
    "# convert time data in seconds\n",
    "for c in data.columns[1:]:\n",
    "    data[c] = pd.Series(data[c].apply(lambda x:min_to_sec(x)), dtype=\"Int64\")\n",
    "data.head()"
   ]
  },
  {
   "cell_type": "code",
   "execution_count": 73,
   "metadata": {},
   "outputs": [],
   "source": [
    "data.to_csv('mini_scores_wide.csv',index=False)"
   ]
  },
  {
   "cell_type": "code",
   "execution_count": 74,
   "metadata": {},
   "outputs": [
    {
     "data": {
      "text/html": [
       "<div>\n",
       "<style scoped>\n",
       "    .dataframe tbody tr th:only-of-type {\n",
       "        vertical-align: middle;\n",
       "    }\n",
       "\n",
       "    .dataframe tbody tr th {\n",
       "        vertical-align: top;\n",
       "    }\n",
       "\n",
       "    .dataframe thead th {\n",
       "        text-align: right;\n",
       "    }\n",
       "</style>\n",
       "<table border=\"1\" class=\"dataframe\">\n",
       "  <thead>\n",
       "    <tr style=\"text-align: right;\">\n",
       "      <th></th>\n",
       "      <th>date</th>\n",
       "      <th>user</th>\n",
       "      <th>time</th>\n",
       "    </tr>\n",
       "  </thead>\n",
       "  <tbody>\n",
       "    <tr>\n",
       "      <th>0</th>\n",
       "      <td>September 26, 2022</td>\n",
       "      <td>gnome</td>\n",
       "      <td>52</td>\n",
       "    </tr>\n",
       "    <tr>\n",
       "      <th>1</th>\n",
       "      <td>September 27, 2022</td>\n",
       "      <td>gnome</td>\n",
       "      <td>37</td>\n",
       "    </tr>\n",
       "    <tr>\n",
       "      <th>2</th>\n",
       "      <td>September 28, 2022</td>\n",
       "      <td>gnome</td>\n",
       "      <td>40</td>\n",
       "    </tr>\n",
       "    <tr>\n",
       "      <th>3</th>\n",
       "      <td>September 29, 2022</td>\n",
       "      <td>gnome</td>\n",
       "      <td>67</td>\n",
       "    </tr>\n",
       "    <tr>\n",
       "      <th>4</th>\n",
       "      <td>October 1, 2022</td>\n",
       "      <td>gnome</td>\n",
       "      <td>507</td>\n",
       "    </tr>\n",
       "  </tbody>\n",
       "</table>\n",
       "</div>"
      ],
      "text/plain": [
       "                 date   user time\n",
       "0  September 26, 2022  gnome   52\n",
       "1  September 27, 2022  gnome   37\n",
       "2  September 28, 2022  gnome   40\n",
       "3  September 29, 2022  gnome   67\n",
       "4     October 1, 2022  gnome  507"
      ]
     },
     "execution_count": 74,
     "metadata": {},
     "output_type": "execute_result"
    }
   ],
   "source": [
    "# convert to long\n",
    "long_data = pd.melt(data,id_vars='date',value_vars=data.columns[1:],var_name='user',value_name='time')\n",
    "long_data.head()"
   ]
  },
  {
   "cell_type": "code",
   "execution_count": 75,
   "metadata": {},
   "outputs": [],
   "source": [
    "long_data.to_csv('mini_scores_long.csv',index=False)"
   ]
  }
 ],
 "metadata": {
  "kernelspec": {
   "display_name": "Python 3",
   "language": "python",
   "name": "python3"
  },
  "language_info": {
   "codemirror_mode": {
    "name": "ipython",
    "version": 3
   },
   "file_extension": ".py",
   "mimetype": "text/x-python",
   "name": "python",
   "nbconvert_exporter": "python",
   "pygments_lexer": "ipython3",
   "version": "3.10.11"
  },
  "orig_nbformat": 4
 },
 "nbformat": 4,
 "nbformat_minor": 2
}
