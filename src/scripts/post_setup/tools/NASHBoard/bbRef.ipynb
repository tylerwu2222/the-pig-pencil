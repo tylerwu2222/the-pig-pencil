{
 "cells": [
  {
   "cell_type": "code",
   "execution_count": 20,
   "metadata": {},
   "outputs": [],
   "source": [
    "import pandas as pd\n",
    "from datetime import datetime\n",
    "from bs4 import BeautifulSoup\n",
    "import requests\n",
    "import os\n",
    "import time\n",
    "from urllib.error import HTTPError\n",
    "\n",
    "import matplotlib.pyplot as plt\n",
    "import seaborn as sns"
   ]
  },
  {
   "attachments": {},
   "cell_type": "markdown",
   "metadata": {},
   "source": [
    "get games played for every player"
   ]
  },
  {
   "cell_type": "code",
   "execution_count": 21,
   "metadata": {},
   "outputs": [
    {
     "name": "stdout",
     "output_type": "stream",
     "text": [
      "ATL\n",
      "Date: Tue, 13 Dec 2022 00:45:55 GMT\n",
      "Content-Type: text/plain; charset=UTF-8\n",
      "Content-Length: 16\n",
      "Connection: close\n",
      "Retry-After: 3386\n",
      "X-Frame-Options: SAMEORIGIN\n",
      "Referrer-Policy: same-origin\n",
      "Cache-Control: private, max-age=0, no-store, no-cache, must-revalidate, post-check=0, pre-check=0\n",
      "Expires: Thu, 01 Jan 1970 00:00:01 GMT\n",
      "Set-Cookie: __cf_bm=KpGApfuukXLuIhERVRiYVJsYoirgRb8CgLnOuq5MZB8-1670892355-0-AZ5NxCFHvSitT9QeVNK2aTrdp4UtffbtjCTyp1IP4sMlkt/N8G+v3hLGIYfHZOYI6LKo2uswFlgMKc1m7asWM3Q=; path=/; expires=Tue, 13-Dec-22 01:15:55 GMT; domain=.basketball-reference.com; HttpOnly; Secure; SameSite=None\n",
      "Vary: Accept-Encoding\n",
      "Server: cloudflare\n",
      "CF-RAY: 778aae0549039642-SJC\n",
      "\n",
      "\n",
      "BOS\n",
      "Date: Tue, 13 Dec 2022 00:45:57 GMT\n",
      "Content-Type: text/plain; charset=UTF-8\n",
      "Content-Length: 16\n",
      "Connection: close\n",
      "Retry-After: 3384\n",
      "X-Frame-Options: SAMEORIGIN\n",
      "Referrer-Policy: same-origin\n",
      "Cache-Control: private, max-age=0, no-store, no-cache, must-revalidate, post-check=0, pre-check=0\n",
      "Expires: Thu, 01 Jan 1970 00:00:01 GMT\n",
      "Set-Cookie: __cf_bm=ajbh8yItCejbsYu1qSa2VQRBdzA6WLx_OJ0nHttQLKE-1670892357-0-AeCMgqkNMI8+VyAqt49OpWS6jUbg9w/PN9ztcJWLDMX3s9GR9Sz9+hnwiGWshV0YpjefP0aGRuRYFqwpejzcjS0=; path=/; expires=Tue, 13-Dec-22 01:15:57 GMT; domain=.basketball-reference.com; HttpOnly; Secure; SameSite=None\n",
      "Vary: Accept-Encoding\n",
      "Server: cloudflare\n",
      "CF-RAY: 778aae125fcd96cf-SJC\n",
      "\n",
      "\n",
      "CHO\n",
      "Date: Tue, 13 Dec 2022 00:45:59 GMT\n",
      "Content-Type: text/plain; charset=UTF-8\n",
      "Content-Length: 16\n",
      "Connection: close\n",
      "Retry-After: 3382\n",
      "X-Frame-Options: SAMEORIGIN\n",
      "Referrer-Policy: same-origin\n",
      "Cache-Control: private, max-age=0, no-store, no-cache, must-revalidate, post-check=0, pre-check=0\n",
      "Expires: Thu, 01 Jan 1970 00:00:01 GMT\n",
      "Set-Cookie: __cf_bm=DqH9ZGHbV2TTYH4OKic14wnhjfUW_Sl3LZiMbyl._3E-1670892359-0-AVijEtVt/GDMd8ehswVacS/OebVyZV5fVK1bEhqwvsT7E8ENxL914U/KUgqMqNwqRKtiDwnHGj1UOFfPSKzXh2E=; path=/; expires=Tue, 13-Dec-22 01:15:59 GMT; domain=.basketball-reference.com; HttpOnly; Secure; SameSite=None\n",
      "Vary: Accept-Encoding\n",
      "Server: cloudflare\n",
      "CF-RAY: 778aae1f3bf5fa7a-SJC\n",
      "\n",
      "\n",
      "CHI\n",
      "Date: Tue, 13 Dec 2022 00:46:01 GMT\n",
      "Content-Type: text/plain; charset=UTF-8\n",
      "Content-Length: 16\n",
      "Connection: close\n",
      "Retry-After: 3380\n",
      "X-Frame-Options: SAMEORIGIN\n",
      "Referrer-Policy: same-origin\n",
      "Cache-Control: private, max-age=0, no-store, no-cache, must-revalidate, post-check=0, pre-check=0\n",
      "Expires: Thu, 01 Jan 1970 00:00:01 GMT\n",
      "Set-Cookie: __cf_bm=tlIhp3Ki2uYq1A9TRtM2ihmCNNTUdf1.va9hVUayRyo-1670892361-0-AT2ZqeLEZsdam2MjoMQa029fboH8qDbuzuWLPnCXlR2ljcu8uattvazUl2eLewBijIl5JhJBXGaLoJjgJBw467Y=; path=/; expires=Tue, 13-Dec-22 01:16:01 GMT; domain=.basketball-reference.com; HttpOnly; Secure; SameSite=None\n",
      "Vary: Accept-Encoding\n",
      "Server: cloudflare\n",
      "CF-RAY: 778aae2c4c44f993-SJC\n",
      "\n",
      "\n",
      "CLE\n"
     ]
    },
    {
     "ename": "KeyboardInterrupt",
     "evalue": "",
     "output_type": "error",
     "traceback": [
      "\u001b[1;31m---------------------------------------------------------------------------\u001b[0m",
      "\u001b[1;31mKeyboardInterrupt\u001b[0m                         Traceback (most recent call last)",
      "\u001b[1;32mc:\\Users\\tyler\\PersonalProjects\\small-data-blog\\src\\scripts\\NASHBoard\\bbRef.ipynb Cell 3\u001b[0m in \u001b[0;36m<cell line: 35>\u001b[1;34m()\u001b[0m\n\u001b[0;32m     <a href='vscode-notebook-cell:/c%3A/Users/tyler/PersonalProjects/small-data-blog/src/scripts/NASHBoard/bbRef.ipynb#W1sZmlsZQ%3D%3D?line=35'>36</a>\u001b[0m \u001b[39mprint\u001b[39m(abbr)\n\u001b[0;32m     <a href='vscode-notebook-cell:/c%3A/Users/tyler/PersonalProjects/small-data-blog/src/scripts/NASHBoard/bbRef.ipynb#W1sZmlsZQ%3D%3D?line=36'>37</a>\u001b[0m \u001b[39mtry\u001b[39;00m:\n\u001b[1;32m---> <a href='vscode-notebook-cell:/c%3A/Users/tyler/PersonalProjects/small-data-blog/src/scripts/NASHBoard/bbRef.ipynb#W1sZmlsZQ%3D%3D?line=37'>38</a>\u001b[0m     time\u001b[39m.\u001b[39;49msleep(\u001b[39m2\u001b[39;49m)\n\u001b[0;32m     <a href='vscode-notebook-cell:/c%3A/Users/tyler/PersonalProjects/small-data-blog/src/scripts/NASHBoard/bbRef.ipynb#W1sZmlsZQ%3D%3D?line=38'>39</a>\u001b[0m     team_url \u001b[39m=\u001b[39m base_url \u001b[39m+\u001b[39m abbr \u001b[39m+\u001b[39m \u001b[39m'\u001b[39m\u001b[39m/2023.html\u001b[39m\u001b[39m'\u001b[39m\n\u001b[0;32m     <a href='vscode-notebook-cell:/c%3A/Users/tyler/PersonalProjects/small-data-blog/src/scripts/NASHBoard/bbRef.ipynb#W1sZmlsZQ%3D%3D?line=39'>40</a>\u001b[0m     tables \u001b[39m=\u001b[39m pd\u001b[39m.\u001b[39mread_html(team_url)\n",
      "\u001b[1;31mKeyboardInterrupt\u001b[0m: "
     ]
    }
   ],
   "source": [
    "base_url = 'https://www.basketball-reference.com/teams/'\n",
    "team_abbr = {'ATL': 'Atlanta Hawks',\n",
    "    'BOS': 'Boston Celtics',\n",
    "    'CHO': 'Charlotte Hornets',\n",
    "    'CHI': 'Chicago Bulls',\n",
    "    'CLE': 'Cleveland Cavaliers',\n",
    "    'DAL': 'Dallas Mavericks',\n",
    "    'DEN': 'Denver Nuggets',\n",
    "    'DET': 'Detroit Pistons',\n",
    "    'GSW': 'Golden State Warriors',\n",
    "    'HOU': 'Houston Rockets',\n",
    "    'IND': 'Indiana Pacers',\n",
    "    'LAC': 'Los Angeles Clippers',\n",
    "    'LAL': 'Los Angeles Lakers',\n",
    "    'MEM': 'Memphis Grizzlies',\n",
    "    'MIA': 'Miami Heat',\n",
    "    'MIL': 'Milwaukee Bucks',\n",
    "    'MIN': 'Minnesota Timberwolves',\n",
    "    'NOP': 'New Orleans Pelicans',\n",
    "    'NYK': 'New York Knicks',\n",
    "    'BRK': 'Brooklyn Nets',\n",
    "    'OKC': 'Oklahoma City Thunder',\n",
    "    'ORL': 'Orlando Magic',\n",
    "    'PHI': 'Philadelphia 76ers',\n",
    "    'PHO': 'Phoenix Suns',\n",
    "    'POR': 'Portland Trail Blazers',\n",
    "    'SAC': 'Sacramento Kings',\n",
    "    'SAS': 'San Antonio Spurs',\n",
    "    'TOR': 'Toronto Raptors',\n",
    "    'UTA': 'Utah Jazz',\n",
    "    'WAS': 'Washington Wizards'\n",
    "    }\n",
    "\n",
    "all_players_GP = {}\n",
    "for abbr in list(team_abbr.keys()):\n",
    "    print(abbr)\n",
    "    try:\n",
    "        time.sleep(2)\n",
    "        team_url = base_url + abbr + '/2023.html'\n",
    "        tables = pd.read_html(team_url)\n",
    "        table = tables[3]\n",
    "        players = table.iloc[:,1]\n",
    "        games_played = table['G']\n",
    "        games_played_dict = dict(zip(players,games_played))\n",
    "        all_players_GP.update(games_played_dict)\n",
    "    except HTTPError as my_exception:\n",
    "        print(my_exception.headers)\n",
    "        break\n",
    "all_players_GP"
   ]
  },
  {
   "cell_type": "code",
   "execution_count": null,
   "metadata": {},
   "outputs": [],
   "source": []
  }
 ],
 "metadata": {
  "kernelspec": {
   "display_name": "Python 3.9.12 ('base')",
   "language": "python",
   "name": "python3"
  },
  "language_info": {
   "codemirror_mode": {
    "name": "ipython",
    "version": 3
   },
   "file_extension": ".py",
   "mimetype": "text/x-python",
   "name": "python",
   "nbconvert_exporter": "python",
   "pygments_lexer": "ipython3",
   "version": "3.9.12"
  },
  "orig_nbformat": 4,
  "vscode": {
   "interpreter": {
    "hash": "0420d7d8aef4f0cc439acea0c78cc7786074a26bb4830ab7d5d8dcbb2e116359"
   }
  }
 },
 "nbformat": 4,
 "nbformat_minor": 2
}
