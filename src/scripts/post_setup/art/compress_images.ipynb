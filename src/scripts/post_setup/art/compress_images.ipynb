{
 "cells": [
  {
   "cell_type": "code",
   "execution_count": 1,
   "metadata": {},
   "outputs": [],
   "source": [
    "from PIL import Image\n",
    "import os"
   ]
  },
  {
   "cell_type": "code",
   "execution_count": 2,
   "metadata": {},
   "outputs": [],
   "source": [
    "def compressImage(image_file,in_folder,out_folder,reduce=1.5):\n",
    "    print(image_file)\n",
    "    # don't compress tiny images\n",
    "    file_path = os.path.join(in_folder,image_file)\n",
    "    file_size = os.path.getsize(file_path) / 1000 # size in kb\n",
    "    image = Image.open(file_path)\n",
    "    if file_size < 60:\n",
    "        image.save(os.path.join(out_folder,image_file),\n",
    "                    optimize = True)\n",
    "        return\n",
    "    # initial compress\n",
    "    width,height = image.size\n",
    "    image = image.resize((round(width/reduce),round(height/reduce)),Image.ANTIALIAS)\n",
    "    image.save(os.path.join(out_folder,image_file),\n",
    "                optimize = True)\n",
    "    \n",
    "    # compress till filesize < 500\n",
    "    file_path = os.path.join(out_folder,image_file)\n",
    "    file_size = os.path.getsize(file_path) / 1000\n",
    "    print(file_size,'kb')\n",
    "    while file_size > 1000:\n",
    "        image = Image.open(file_path)\n",
    "        width,height = image.size\n",
    "        image = image.resize((round(width/reduce),round(height/reduce)),Image.ANTIALIAS)\n",
    "        file_size = os.path.getsize(file_path) / 1000\n",
    "        print(file_size,'kb')\n",
    "        image.save(os.path.join(out_folder,image_file),\n",
    "                    optimize = True)\n",
    "    return"
   ]
  },
  {
   "cell_type": "code",
   "execution_count": 3,
   "metadata": {},
   "outputs": [
    {
     "name": "stdout",
     "output_type": "stream",
     "text": [
      "animal (18).JPG\n"
     ]
    },
    {
     "name": "stderr",
     "output_type": "stream",
     "text": [
      "C:\\Users\\tyler\\AppData\\Local\\Temp\\ipykernel_12944\\1334025526.py:13: DeprecationWarning: ANTIALIAS is deprecated and will be removed in Pillow 10 (2023-07-01). Use Resampling.LANCZOS instead.\n",
      "  image = image.resize((round(width/reduce),round(height/reduce)),Image.ANTIALIAS)\n"
     ]
    },
    {
     "name": "stdout",
     "output_type": "stream",
     "text": [
      "310.609 kb\n",
      "animal (20).JPG\n",
      "716.331 kb\n",
      "animal (21).JPG\n",
      "601.389 kb\n",
      "animal (24).JPG\n",
      "293.456 kb\n",
      "animal (6).jpg\n",
      "206.816 kb\n",
      "plant (25).JPG\n",
      "236.632 kb\n",
      "plant (28).JPG\n",
      "720.977 kb\n",
      "plant (29).JPG\n",
      "484.383 kb\n",
      "plant (31).JPG\n",
      "524.43 kb\n",
      "PXL_20221215_193540878.jpg\n",
      "286.414 kb\n",
      "PXL_20230114_181519540.jpg\n",
      "572.311 kb\n",
      "PXL_20230308_224728623.jpg\n",
      "1044.441 kb\n",
      "1044.441 kb\n"
     ]
    },
    {
     "name": "stderr",
     "output_type": "stream",
     "text": [
      "C:\\Users\\tyler\\AppData\\Local\\Temp\\ipykernel_12944\\1334025526.py:24: DeprecationWarning: ANTIALIAS is deprecated and will be removed in Pillow 10 (2023-07-01). Use Resampling.LANCZOS instead.\n",
      "  image = image.resize((round(width/reduce),round(height/reduce)),Image.ANTIALIAS)\n"
     ]
    },
    {
     "name": "stdout",
     "output_type": "stream",
     "text": [
      "559.103 kb\n",
      "PXL_20230318_002733609.jpg\n",
      "863.034 kb\n",
      "PXL_20230318_235454694.jpg\n",
      "792.436 kb\n",
      "PXL_20230321_000324111.jpg\n",
      "756.692 kb\n",
      "PXL_20230323_163158175.jpg\n",
      "205.313 kb\n",
      "PXL_20230323_202857095.jpg\n",
      "1036.517 kb\n",
      "1036.517 kb\n",
      "573.827 kb\n",
      "PXL_20230325_220221981.jpg\n",
      "498.386 kb\n",
      "PXL_20230325_220252017.jpg\n",
      "457.114 kb\n",
      "PXL_20230325_220503490.jpg\n",
      "492.74 kb\n",
      "PXL_20230330_195927760.jpg\n",
      "740.134 kb\n",
      "PXL_20230331_150857422.jpg\n",
      "1195.211 kb\n",
      "1195.211 kb\n",
      "639.873 kb\n",
      "PXL_20230404_163816840.jpg\n",
      "769.106 kb\n",
      "PXL_20230404_163821557.jpg\n",
      "642.094 kb\n",
      "PXL_20230404_194850899.jpg\n",
      "813.867 kb\n",
      "PXL_20230504_001744568.jpg\n",
      "892.828 kb\n",
      "PXL_20230526_225036678.jpg\n",
      "713.788 kb\n",
      "PXL_20230528_211032489.jpg\n",
      "369.681 kb\n",
      "PXL_20230528_211054611.jpg\n",
      "267.344 kb\n",
      "PXL_20230528_213601276.jpg\n",
      "693.69 kb\n",
      "PXL_20230528_221957224.jpg\n",
      "902.059 kb\n",
      "PXL_20230606_202453513.jpg\n",
      "247.972 kb\n",
      "PXL_20230606_203218892.jpg\n",
      "692.492 kb\n",
      "PXL_20230606_211226325.jpg\n",
      "578.0 kb\n",
      "PXL_20230606_211525289.jpg\n",
      "711.98 kb\n",
      "PXL_20230607_145618764.jpg\n",
      "218.424 kb\n",
      "PXL_20230613_203156648.jpg\n",
      "467.165 kb\n",
      "PXL_20230613_204157757.jpg\n",
      "478.494 kb\n",
      "sky (2).jpg\n",
      "1382.517 kb\n",
      "1382.517 kb\n",
      "695.717 kb\n",
      "sky (4).jpg\n",
      "344.758 kb\n",
      "sky (6).JPG\n",
      "286.489 kb\n",
      "sky (9).jpg\n",
      "150.459 kb\n",
      "tree (25).JPG\n",
      "657.358 kb\n",
      "tree (30).JPG\n",
      "1130.775 kb\n",
      "1130.775 kb\n",
      "575.692 kb\n",
      "tree (31).JPG\n",
      "991.813 kb\n",
      "tree (38).JPG\n",
      "409.397 kb\n",
      "tree (46).JPG\n",
      "612.406 kb\n",
      "tree (48).JPG\n",
      "673.838 kb\n"
     ]
    }
   ],
   "source": [
    "# folder, size, output folder\n",
    "in_folder = 'compress'\n",
    "out_folder = 'CompressedFolder'\n",
    "images = os.listdir(in_folder)\n",
    "for i in images:\n",
    "    compressImage(i,in_folder, out_folder)"
   ]
  },
  {
   "cell_type": "code",
   "execution_count": null,
   "metadata": {},
   "outputs": [],
   "source": []
  }
 ],
 "metadata": {
  "kernelspec": {
   "display_name": "Python 3",
   "language": "python",
   "name": "python3"
  },
  "language_info": {
   "codemirror_mode": {
    "name": "ipython",
    "version": 3
   },
   "file_extension": ".py",
   "mimetype": "text/x-python",
   "name": "python",
   "nbconvert_exporter": "python",
   "pygments_lexer": "ipython3",
   "version": "3.10.11"
  },
  "orig_nbformat": 4,
  "vscode": {
   "interpreter": {
    "hash": "a2c8e3dbc61039d4879b1244c4c38555a05497fd94f2db7d5889d3266e69e226"
   }
  }
 },
 "nbformat": 4,
 "nbformat_minor": 2
}
