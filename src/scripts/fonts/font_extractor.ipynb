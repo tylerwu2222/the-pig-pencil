{
 "cells": [
  {
   "cell_type": "code",
   "execution_count": 1,
   "metadata": {},
   "outputs": [],
   "source": [
    "import os\n",
    "import json"
   ]
  },
  {
   "cell_type": "code",
   "execution_count": 3,
   "metadata": {},
   "outputs": [
    {
     "data": {
      "text/plain": [
       "['autography',\n",
       " 'bebas',\n",
       " 'boulder_2',\n",
       " 'coolvetica',\n",
       " 'fanlste',\n",
       " 'gagisra_rigade',\n",
       " 'home_kitchen',\n",
       " 'jester',\n",
       " 'kastella_script',\n",
       " 'kg_red_hands',\n",
       " 'lemon_milk',\n",
       " 'muthiara',\n",
       " 'old_london',\n",
       " 'relington',\n",
       " 'storybook',\n",
       " 'subway_ds',\n",
       " 'technical_drawing']"
      ]
     },
     "execution_count": 3,
     "metadata": {},
     "output_type": "execute_result"
    }
   ],
   "source": [
    "# move font otp, ttp files out of folders\n",
    "folders = [f for f in os.listdir('fonts') if '.zip' not in f]\n",
    "folders"
   ]
  },
  {
   "cell_type": "code",
   "execution_count": 10,
   "metadata": {},
   "outputs": [],
   "source": [
    "for f in folders:\n",
    "    # get all ttf and otf font files\n",
    "    files = [file for file in os.listdir(os.path.join('fonts',f)) if any(s in file for s in ['.ttf','.otf'])]\n",
    "    # move to all_fonts folder\n",
    "    for file in files:\n",
    "        os.rename(os.path.join('fonts',f,file), os.path.join('fonts','all_fonts',file))"
   ]
  },
  {
   "cell_type": "code",
   "execution_count": 5,
   "metadata": {},
   "outputs": [
    {
     "data": {
      "text/plain": [
       "['Autography',\n",
       " 'Bebas',\n",
       " 'Boulder',\n",
       " 'coolvetica',\n",
       " 'fanlste',\n",
       " 'Gagisra Rigade',\n",
       " 'Home Kitchen',\n",
       " 'Jester',\n",
       " 'KastellaScript',\n",
       " 'KGRedHands',\n",
       " 'KGRedHandsOutline',\n",
       " 'LEMONMILK-Medium',\n",
       " 'LEMONMILK-Regular',\n",
       " 'Muthiara',\n",
       " 'Old London',\n",
       " 'Relington',\n",
       " 'Subway-Black',\n",
       " 'Subway-Shadow',\n",
       " 'TechnicalDrawing']"
      ]
     },
     "execution_count": 5,
     "metadata": {},
     "output_type": "execute_result"
    }
   ],
   "source": [
    "# store path info into json\n",
    "fonts_folder = 'fonts/all_fonts/'\n",
    "font_list = []\n",
    "font_name_list = []\n",
    "all_fonts = os.listdir(fonts_folder)\n",
    "all_fonts\n",
    "for font in all_fonts:\n",
    "    font_name, file_format = os.path.splitext(font)\n",
    "    font_obj = {}\n",
    "    font_obj['name'] = font_name\n",
    "    font_obj['format'] = file_format\n",
    "    font_obj['src'] = os.path.join(fonts_folder, font)\n",
    "    font_list.append(font_obj)\n",
    "    font_name_list.append(font_name)\n",
    "font_name_list\n",
    "# font_list"
   ]
  },
  {
   "cell_type": "code",
   "execution_count": 6,
   "metadata": {},
   "outputs": [],
   "source": [
    "with open('logo_font_names.json', 'w') as json_file:\n",
    "        json.dump(font_name_list, json_file, indent=2)\n",
    "with open('logo_fonts.json', 'w') as json_file:\n",
    "        json.dump(font_list, json_file, indent=2)"
   ]
  },
  {
   "cell_type": "code",
   "execution_count": 7,
   "metadata": {},
   "outputs": [
    {
     "data": {
      "text/plain": [
       "[{'name': 'Autography',\n",
       "  'format': '.otf',\n",
       "  'src': 'fonts/all_fonts/Autography.otf'},\n",
       " {'name': 'Bebas', 'format': '.otf', 'src': 'fonts/all_fonts/Bebas.otf'},\n",
       " {'name': 'Boulder', 'format': '.otf', 'src': 'fonts/all_fonts/Boulder.otf'},\n",
       " {'name': 'coolvetica',\n",
       "  'format': '.otf',\n",
       "  'src': 'fonts/all_fonts/coolvetica.otf'},\n",
       " {'name': 'fanlste', 'format': '.otf', 'src': 'fonts/all_fonts/fanlste.otf'},\n",
       " {'name': 'Gagisra Rigade',\n",
       "  'format': '.otf',\n",
       "  'src': 'fonts/all_fonts/Gagisra Rigade.otf'},\n",
       " {'name': 'Home Kitchen',\n",
       "  'format': '.otf',\n",
       "  'src': 'fonts/all_fonts/Home Kitchen.otf'},\n",
       " {'name': 'Jester', 'format': '.ttf', 'src': 'fonts/all_fonts/Jester.ttf'},\n",
       " {'name': 'KastellaScript',\n",
       "  'format': '.otf',\n",
       "  'src': 'fonts/all_fonts/KastellaScript.otf'},\n",
       " {'name': 'KGRedHands',\n",
       "  'format': '.ttf',\n",
       "  'src': 'fonts/all_fonts/KGRedHands.ttf'},\n",
       " {'name': 'KGRedHandsOutline',\n",
       "  'format': '.ttf',\n",
       "  'src': 'fonts/all_fonts/KGRedHandsOutline.ttf'},\n",
       " {'name': 'LEMONMILK-Medium',\n",
       "  'format': '.otf',\n",
       "  'src': 'fonts/all_fonts/LEMONMILK-Medium.otf'},\n",
       " {'name': 'LEMONMILK-Regular',\n",
       "  'format': '.otf',\n",
       "  'src': 'fonts/all_fonts/LEMONMILK-Regular.otf'},\n",
       " {'name': 'Muthiara', 'format': '.otf', 'src': 'fonts/all_fonts/Muthiara.otf'},\n",
       " {'name': 'Old London',\n",
       "  'format': '.otf',\n",
       "  'src': 'fonts/all_fonts/Old London.otf'},\n",
       " {'name': 'Relington',\n",
       "  'format': '.otf',\n",
       "  'src': 'fonts/all_fonts/Relington.otf'},\n",
       " {'name': 'Subway-Black',\n",
       "  'format': '.ttf',\n",
       "  'src': 'fonts/all_fonts/Subway-Black.ttf'},\n",
       " {'name': 'Subway-Shadow',\n",
       "  'format': '.ttf',\n",
       "  'src': 'fonts/all_fonts/Subway-Shadow.ttf'},\n",
       " {'name': 'TechnicalDrawing',\n",
       "  'format': '.ttf',\n",
       "  'src': 'fonts/all_fonts/TechnicalDrawing.ttf'}]"
      ]
     },
     "execution_count": 7,
     "metadata": {},
     "output_type": "execute_result"
    }
   ],
   "source": [
    "font_list"
   ]
  },
  {
   "cell_type": "code",
   "execution_count": 12,
   "metadata": {},
   "outputs": [
    {
     "name": "stdout",
     "output_type": "stream",
     "text": [
      "@font-face{\n",
      "    font-family: \"Autography\";\n",
      "    src: local(\"Autography\"), url(\"./fonts/all_fonts/Autography.otf\") format(\".otf\");\n",
      "    }\n",
      "\n",
      "@font-face{\n",
      "    font-family: \"Bebas\";\n",
      "    src: local(\"Bebas\"), url(\"./fonts/all_fonts/Bebas.otf\") format(\".otf\");\n",
      "    }\n",
      "\n",
      "@font-face{\n",
      "    font-family: \"Boulder\";\n",
      "    src: local(\"Boulder\"), url(\"./fonts/all_fonts/Boulder.otf\") format(\".otf\");\n",
      "    }\n",
      "\n",
      "@font-face{\n",
      "    font-family: \"coolvetica\";\n",
      "    src: local(\"coolvetica\"), url(\"./fonts/all_fonts/coolvetica.otf\") format(\".otf\");\n",
      "    }\n",
      "\n",
      "@font-face{\n",
      "    font-family: \"fanlste\";\n",
      "    src: local(\"fanlste\"), url(\"./fonts/all_fonts/fanlste.otf\") format(\".otf\");\n",
      "    }\n",
      "\n",
      "@font-face{\n",
      "    font-family: \"Gagisra Rigade\";\n",
      "    src: local(\"Gagisra Rigade\"), url(\"./fonts/all_fonts/Gagisra Rigade.otf\") format(\".otf\");\n",
      "    }\n",
      "\n",
      "@font-face{\n",
      "    font-family: \"Home Kitchen\";\n",
      "    src: local(\"Home Kitchen\"), url(\"./fonts/all_fonts/Home Kitchen.otf\") format(\".otf\");\n",
      "    }\n",
      "\n",
      "@font-face{\n",
      "    font-family: \"Jester\";\n",
      "    src: local(\"Jester\"), url(\"./fonts/all_fonts/Jester.ttf\") format(\".ttf\");\n",
      "    }\n",
      "\n",
      "@font-face{\n",
      "    font-family: \"KastellaScript\";\n",
      "    src: local(\"KastellaScript\"), url(\"./fonts/all_fonts/KastellaScript.otf\") format(\".otf\");\n",
      "    }\n",
      "\n",
      "@font-face{\n",
      "    font-family: \"KGRedHands\";\n",
      "    src: local(\"KGRedHands\"), url(\"./fonts/all_fonts/KGRedHands.ttf\") format(\".ttf\");\n",
      "    }\n",
      "\n",
      "@font-face{\n",
      "    font-family: \"KGRedHandsOutline\";\n",
      "    src: local(\"KGRedHandsOutline\"), url(\"./fonts/all_fonts/KGRedHandsOutline.ttf\") format(\".ttf\");\n",
      "    }\n",
      "\n",
      "@font-face{\n",
      "    font-family: \"LEMONMILK-Medium\";\n",
      "    src: local(\"LEMONMILK-Medium\"), url(\"./fonts/all_fonts/LEMONMILK-Medium.otf\") format(\".otf\");\n",
      "    }\n",
      "\n",
      "@font-face{\n",
      "    font-family: \"LEMONMILK-Regular\";\n",
      "    src: local(\"LEMONMILK-Regular\"), url(\"./fonts/all_fonts/LEMONMILK-Regular.otf\") format(\".otf\");\n",
      "    }\n",
      "\n",
      "@font-face{\n",
      "    font-family: \"Muthiara\";\n",
      "    src: local(\"Muthiara\"), url(\"./fonts/all_fonts/Muthiara.otf\") format(\".otf\");\n",
      "    }\n",
      "\n",
      "@font-face{\n",
      "    font-family: \"Old London\";\n",
      "    src: local(\"Old London\"), url(\"./fonts/all_fonts/Old London.otf\") format(\".otf\");\n",
      "    }\n",
      "\n",
      "@font-face{\n",
      "    font-family: \"Relington\";\n",
      "    src: local(\"Relington\"), url(\"./fonts/all_fonts/Relington.otf\") format(\".otf\");\n",
      "    }\n",
      "\n",
      "@font-face{\n",
      "    font-family: \"Subway-Black\";\n",
      "    src: local(\"Subway-Black\"), url(\"./fonts/all_fonts/Subway-Black.ttf\") format(\".ttf\");\n",
      "    }\n",
      "\n",
      "@font-face{\n",
      "    font-family: \"Subway-Shadow\";\n",
      "    src: local(\"Subway-Shadow\"), url(\"./fonts/all_fonts/Subway-Shadow.ttf\") format(\".ttf\");\n",
      "    }\n",
      "\n",
      "@font-face{\n",
      "    font-family: \"TechnicalDrawing\";\n",
      "    src: local(\"TechnicalDrawing\"), url(\"./fonts/all_fonts/TechnicalDrawing.ttf\") format(\".ttf\");\n",
      "    }\n",
      "\n"
     ]
    }
   ],
   "source": [
    "# store json into text file:\n",
    "all_font_string = \"\"\n",
    "for font in font_list:\n",
    "  font_string = '@font-face{\\n\\\n",
    "    font-family: \"' + font['name'] + '\";\\n\\\n",
    "    src: local(\"' + font['name'] + '\"), url(\"./' + font['src'] + '\") format(\"'+ font['format']+'\");\\n\\\n",
    "    }\\n'\n",
    "  print(font_string)\n",
    "#   all_font_string = all_font_string + font_string\n",
    "# all_font_string"
   ]
  }
 ],
 "metadata": {
  "kernelspec": {
   "display_name": "Python 3",
   "language": "python",
   "name": "python3"
  },
  "language_info": {
   "codemirror_mode": {
    "name": "ipython",
    "version": 3
   },
   "file_extension": ".py",
   "mimetype": "text/x-python",
   "name": "python",
   "nbconvert_exporter": "python",
   "pygments_lexer": "ipython3",
   "version": "3.10.11"
  }
 },
 "nbformat": 4,
 "nbformat_minor": 2
}
