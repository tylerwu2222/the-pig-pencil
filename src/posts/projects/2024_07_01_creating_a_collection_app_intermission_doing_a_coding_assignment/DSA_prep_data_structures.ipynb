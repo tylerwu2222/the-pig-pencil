{
 "cells": [
  {
   "cell_type": "code",
   "execution_count": 1,
   "metadata": {},
   "outputs": [],
   "source": [
    "import pandas\n",
    "import numpy"
   ]
  },
  {
   "cell_type": "markdown",
   "metadata": {},
   "source": [
    "Arrays (lists)"
   ]
  },
  {
   "cell_type": "code",
   "execution_count": 3,
   "metadata": {},
   "outputs": [],
   "source": [
    "ex_list = [1,2,3]"
   ]
  },
  {
   "cell_type": "markdown",
   "metadata": {},
   "source": [
    "operations on list\n",
    "- access\n",
    "- search\n",
    "- insert\n",
    "- delete"
   ]
  },
  {
   "cell_type": "code",
   "execution_count": 4,
   "metadata": {},
   "outputs": [],
   "source": [
    "# access - constant time \n",
    "result = ex_list[0]"
   ]
  },
  {
   "cell_type": "code",
   "execution_count": 5,
   "metadata": {},
   "outputs": [
    {
     "name": "stdout",
     "output_type": "stream",
     "text": [
      "True\n",
      "True\n"
     ]
    }
   ],
   "source": [
    "# search - best case, use linear search for\n",
    "# option 1: in, uses contains\n",
    "if 1 in ex_list: print(True)\n",
    "# option 2: for loop\n",
    "for n in ex_list:\n",
    "    if n == 1:\n",
    "        print(True)\n",
    "        break"
   ]
  },
  {
   "cell_type": "code",
   "execution_count": 6,
   "metadata": {},
   "outputs": [],
   "source": [
    "# insert\n",
    "# inserting at 0 (worst case, n runtime)\n",
    "\n",
    "# insertaing at end OR appending (best case, 1 runtime)\n"
   ]
  },
  {
   "cell_type": "markdown",
   "metadata": {},
   "source": [
    "python allocates new space using resize when more space needed at points: 0,4,8,16,25,35,46..."
   ]
  },
  {
   "cell_type": "code",
   "execution_count": 9,
   "metadata": {},
   "outputs": [],
   "source": [
    "class Node:\n",
    "    \"\"\"\n",
    "    An object for storing a single node in a linked list\n",
    "\n",
    "    Attributes:\n",
    "        data: Data stored in node\n",
    "        next_node: Reference to next node in linked list\n",
    "    \"\"\"\n",
    "\n",
    "    def __init__(self, data, next_node = None):\n",
    "        self.data = data\n",
    "        self.next_node = next_node\n",
    "\n",
    "    def __repr__(self):\n",
    "        return \"<Node data: %s>\" % self.data\n",
    "\n",
    "class LinkedList:\n",
    "    \"\"\"\n",
    "    Linear data structure that stores values in nodes. The list maintains a reference to the first node, also called head. Each node points to the next node in the list\n",
    "\n",
    "    Attributes:\n",
    "        head: The head node of the list\n",
    "    \"\"\"\n",
    "\n",
    "    def __init__(self):\n",
    "        self.head = None\n",
    "        # Maintaining a count attribute allows for len() to be implemented in\n",
    "        # constant time\n",
    "        self.__count = 0\n",
    "\n",
    "    def is_empty(self):\n",
    "        \"\"\"\n",
    "        Determines if the linked list is empty\n",
    "        Takes O(1) time\n",
    "        \"\"\"\n",
    "\n",
    "        return self.head is None\n",
    "\n",
    "    def __len__(self):\n",
    "        \"\"\"\n",
    "        Returns the length of the linked list\n",
    "        Takes O(1) time\n",
    "        \"\"\"\n",
    "\n",
    "        return self.__count\n",
    "\n",
    "    def add(self, data):\n",
    "        \"\"\"\n",
    "        Adds new Node containing data to head of the list\n",
    "        Also called prepend\n",
    "        Takes O(1) time\n",
    "        \"\"\"\n",
    "\n",
    "        new_head = Node(data, next_node=self.head)\n",
    "        self.head = new_head\n",
    "        self.__count += 1\n",
    "\n",
    "    def search(self, key):\n",
    "        \"\"\"\n",
    "        Search for the first node containing data that matches the key\n",
    "        Returns the node or `None` if not found\n",
    "        Takes O(n) time\n",
    "        \"\"\"\n",
    "\n",
    "        current = self.head\n",
    "\n",
    "        while current:\n",
    "            if current.data == key:\n",
    "                return current\n",
    "            else:\n",
    "                current = current.next_node\n",
    "        return None\n",
    "\n",
    "    def insert(self, data, index):\n",
    "        \"\"\"\n",
    "        Inserts a new Node containing data at index position\n",
    "        Insertion takes O(1) time but finding node at insertion point takes\n",
    "        O(n) time.\n",
    "        Takes overall O(n) time.\n",
    "        \"\"\"\n",
    "\n",
    "        if index >= self.__count:\n",
    "            raise IndexError('index out of range')\n",
    "\n",
    "        # same as add\n",
    "        if index == 0:\n",
    "            self.add(data)\n",
    "            return\n",
    "        # create new node at index\n",
    "        if index > 0:\n",
    "            new = Node(data)\n",
    "            position = index\n",
    "            current = self.head\n",
    "\n",
    "            # traverse till index reached\n",
    "            while position > 1:\n",
    "                current = current.next_node\n",
    "                position -= 1\n",
    "\n",
    "            prev_node = current\n",
    "            next_node = current.next_node\n",
    "\n",
    "            prev_node.next_node = new\n",
    "            new.next_node = next_node\n",
    "\n",
    "        self.__count += 1\n",
    "\n",
    "    def node_at_index(self, index):\n",
    "        \"\"\"\n",
    "        Returns the Node at specified index\n",
    "        Takes O(n) time\n",
    "        \"\"\"\n",
    "\n",
    "        if index >= self.__count:\n",
    "            raise IndexError('index out of range')\n",
    "\n",
    "        # return head if 0\n",
    "        if index == 0:\n",
    "            return self.head\n",
    "\n",
    "        current = self.head\n",
    "        position = 0\n",
    "\n",
    "        # traverse till index\n",
    "        while position < index:\n",
    "            current = current.next_node\n",
    "            position += 1\n",
    "\n",
    "        return current\n",
    "\n",
    "    def remove(self, key):\n",
    "        \"\"\"\n",
    "        Removes Node containing data that matches the key\n",
    "        Returns the node or `None` if key doesn't exist\n",
    "        Takes O(n) time\n",
    "        \"\"\"\n",
    "\n",
    "        current = self.head\n",
    "        previous = None\n",
    "        found = False\n",
    "\n",
    "        # traverse until either found or current reaches node past tail (end of LL)\n",
    "        while current and not found:\n",
    "            if current.data == key and current is self.head:\n",
    "                found = True\n",
    "                self.head = current.next_node\n",
    "                self.__count -= 1\n",
    "                return current\n",
    "            elif current.data == key:\n",
    "                found = True\n",
    "                previous.next_node = current.next_node\n",
    "                self.__count -= 1\n",
    "                return current\n",
    "            else:\n",
    "                previous = current\n",
    "                current = current.next_node\n",
    "\n",
    "        return None\n",
    "\n",
    "    def remove_at_index(self, index):\n",
    "        \"\"\"\n",
    "        Removes Node at specified index\n",
    "        Takes O(n) time\n",
    "        \"\"\"\n",
    "\n",
    "        if index >= self.__count:\n",
    "            raise IndexError('index out of range')\n",
    "\n",
    "        current = self.head\n",
    "\n",
    "        if index == 0:\n",
    "            self.head = current.next_node\n",
    "            self.__count -= 1\n",
    "            return current\n",
    "\n",
    "        position = index\n",
    "\n",
    "        while position > 1:\n",
    "            current = current.next_node\n",
    "            position -= 1\n",
    "\n",
    "        prev_node = current\n",
    "        current = current.next_node\n",
    "        next_node = current.next_node\n",
    "\n",
    "        prev_node.next_node = next_node\n",
    "        self.__count -= 1\n",
    "\n",
    "        return current\n",
    "\n",
    "\n",
    "    def __iter__(self):\n",
    "        current = self.head\n",
    "\n",
    "        while current:\n",
    "            yield current\n",
    "            current = current.next_node\n",
    "\n",
    "\n",
    "    def __repr__(self):\n",
    "        \"\"\"\n",
    "        Return a string representation of the list.\n",
    "        Takes O(n) time.\n",
    "        \"\"\"\n",
    "        nodes = []\n",
    "        current = self.head\n",
    "        while current:\n",
    "            if current is self.head:\n",
    "                nodes.append(\"[Head: %s]\" % current.data)\n",
    "            elif current.next is None:\n",
    "                nodes.append(\"[Tail: %s]\" % current.data)\n",
    "            else:\n",
    "                nodes.append(\"[%s]\" % current.data)\n",
    "            current = current.next_node\n",
    "        return  '-> '.join(nodes)"
   ]
  },
  {
   "cell_type": "code",
   "execution_count": 10,
   "metadata": {},
   "outputs": [
    {
     "data": {
      "text/plain": [
       "[Head: 2]-> [Tail: 1]"
      ]
     },
     "execution_count": 10,
     "metadata": {},
     "output_type": "execute_result"
    }
   ],
   "source": [
    "l = LinkedList()\n",
    "l.add(1)\n",
    "l.add(2)\n",
    "l"
   ]
  },
  {
   "cell_type": "markdown",
   "metadata": {},
   "source": [
    "# sets"
   ]
  },
  {
   "cell_type": "markdown",
   "metadata": {},
   "source": [
    "### creating set"
   ]
  },
  {
   "cell_type": "code",
   "execution_count": 72,
   "metadata": {},
   "outputs": [
    {
     "name": "stdout",
     "output_type": "stream",
     "text": [
      "{1, 2, 3}\n",
      "{1, 2, 3}\n",
      "{False, True} {'1', 1}\n"
     ]
    },
    {
     "data": {
      "text/plain": [
       "3"
      ]
     },
     "execution_count": 72,
     "metadata": {},
     "output_type": "execute_result"
    }
   ],
   "source": [
    "test_set_1 = {1,2,3,1, True} # duplicate 1 ignored, True also ignored (cast to 1)\n",
    "print(test_set_1)\n",
    "print(test_set_1)\n",
    "\n",
    "test_set_2 = set((True,False)) # using constructor + tuple or list\n",
    "test_set_3 = set(['1',1])\n",
    "# test_set_3 = {'1',1}\n",
    "print(test_set_2, test_set_3)\n",
    "len(test_set_1)"
   ]
  },
  {
   "cell_type": "markdown",
   "metadata": {},
   "source": [
    "### accessing sets"
   ]
  },
  {
   "cell_type": "code",
   "execution_count": 20,
   "metadata": {},
   "outputs": [
    {
     "name": "stdout",
     "output_type": "stream",
     "text": [
      "True\n",
      "False\n"
     ]
    }
   ],
   "source": [
    "# accessing sets: in\n",
    "print(True in test_set_1) # True always 1, False always 0\n",
    "print(1 not in test_set_1)"
   ]
  },
  {
   "cell_type": "markdown",
   "metadata": {},
   "source": [
    "### adding to sets "
   ]
  },
  {
   "cell_type": "code",
   "execution_count": 41,
   "metadata": {},
   "outputs": [
    {
     "name": "stdout",
     "output_type": "stream",
     "text": [
      "{1, 2, 3, 4}\n"
     ]
    },
    {
     "data": {
      "text/plain": [
       "{1, 2, 3, 4, 5}"
      ]
     },
     "execution_count": 41,
     "metadata": {},
     "output_type": "execute_result"
    }
   ],
   "source": [
    "# add single elt to set: add\n",
    "test_set_1.add(4)\n",
    "print(test_set_1)\n",
    "\n",
    "# combine sets: update\n",
    "# can add any iterable (list, tuple, dictionaries)\n",
    "test_set_a = {1,2}\n",
    "test_set_b = {3,4}\n",
    "test_set_a.update(test_set_b) # updates IN PLACE\n",
    "test_set_a.update({5:6}) # adding dict appends keys\n",
    "test_set_a"
   ]
  },
  {
   "cell_type": "markdown",
   "metadata": {},
   "source": [
    "### removing from sets"
   ]
  },
  {
   "cell_type": "code",
   "execution_count": 42,
   "metadata": {},
   "outputs": [],
   "source": [
    "# removing\n",
    "test_set_a.remove(5) # also inplace\n",
    "# test_set_a.remove(5) # raises error if DNE\n",
    "test_set_a.discard(5) # DOES NOT raise error if DNE\n",
    "# .pop() removes random item\\\n",
    "# .clear() and del set to clear a set"
   ]
  },
  {
   "cell_type": "markdown",
   "metadata": {},
   "source": [
    "### looping from sets"
   ]
  },
  {
   "cell_type": "code",
   "execution_count": 43,
   "metadata": {},
   "outputs": [
    {
     "name": "stdout",
     "output_type": "stream",
     "text": [
      "1\n",
      "2\n",
      "3\n",
      "4\n"
     ]
    }
   ],
   "source": [
    "# loop as usual\n",
    "for a in test_set_a:\n",
    "    print(a)"
   ]
  },
  {
   "cell_type": "markdown",
   "metadata": {},
   "source": [
    "### joining sets"
   ]
  },
  {
   "cell_type": "code",
   "execution_count": 58,
   "metadata": {},
   "outputs": [
    {
     "data": {
      "text/plain": [
       "{1, 2, 3, 4, 5, 6}"
      ]
     },
     "execution_count": 58,
     "metadata": {},
     "output_type": "execute_result"
    }
   ],
   "source": [
    "# union (all values)\n",
    "jset_1 = {1,2,3,4}\n",
    "jset_2 = {3,4,5,6}\n",
    "jset_1.union(jset_2) # returns new copy"
   ]
  },
  {
   "cell_type": "code",
   "execution_count": 62,
   "metadata": {},
   "outputs": [
    {
     "data": {
      "text/plain": [
       "{1, 2, 3, 4, 5, 6, 7, 8}"
      ]
     },
     "execution_count": 62,
     "metadata": {},
     "output_type": "execute_result"
    }
   ],
   "source": [
    "jset_3 = {6,7,8}\n",
    "jset_1.union(jset_2,jset_3)\n",
    "# jset_1 | jset_2 | jset_3 # same as union"
   ]
  },
  {
   "cell_type": "code",
   "execution_count": 63,
   "metadata": {},
   "outputs": [
    {
     "data": {
      "text/plain": [
       "{3, 4}"
      ]
     },
     "execution_count": 63,
     "metadata": {},
     "output_type": "execute_result"
    }
   ],
   "source": [
    "# intersection (common values)\n",
    "jset_1.intersection(jset_2)\n",
    "\n",
    "jset_1 & jset_2 # same thing\n",
    "\n",
    "# jset_1.intersection_update(jset_2) # updates jset_1 in place\n",
    "# jset_1"
   ]
  },
  {
   "cell_type": "code",
   "execution_count": 64,
   "metadata": {},
   "outputs": [
    {
     "data": {
      "text/plain": [
       "{1, 2}"
      ]
     },
     "execution_count": 64,
     "metadata": {},
     "output_type": "execute_result"
    }
   ],
   "source": [
    "# difference (those in FIRST SET, that aren't in SECOND)\n",
    "jset_1.difference(jset_2)\n",
    "jset_1 - jset_2 # same thing"
   ]
  },
  {
   "cell_type": "code",
   "execution_count": 65,
   "metadata": {},
   "outputs": [
    {
     "data": {
      "text/plain": [
       "{1, 2, 5, 6}"
      ]
     },
     "execution_count": 65,
     "metadata": {},
     "output_type": "execute_result"
    }
   ],
   "source": [
    "# sym difference (elts present in NEITHER SET)\n",
    "jset_1.symmetric_difference(jset_2)"
   ]
  },
  {
   "cell_type": "markdown",
   "metadata": {},
   "source": [
    "### other useful methods"
   ]
  },
  {
   "cell_type": "code",
   "execution_count": 91,
   "metadata": {},
   "outputs": [
    {
     "name": "stdout",
     "output_type": "stream",
     "text": [
      "{1, 2, 3} {1, 2}\n"
     ]
    }
   ],
   "source": [
    "# copy a set\n",
    "set_og = {1,2}\n",
    "set_clone = set_og.copy()\n",
    "# or set_clone = set(set_og)\n",
    "set_clone.add(3)\n",
    "print(set_clone, set_og)"
   ]
  },
  {
   "cell_type": "code",
   "execution_count": 69,
   "metadata": {},
   "outputs": [
    {
     "name": "stdout",
     "output_type": "stream",
     "text": [
      "{1, 2, 3, 4} {3, 4, 5, 6}\n"
     ]
    }
   ],
   "source": [
    "# check if disjoint (has no intersection)\n",
    "jset_1.isdisjoint(jset_2)\n",
    "print(jset_1,jset_2)"
   ]
  },
  {
   "cell_type": "markdown",
   "metadata": {},
   "source": [
    "# dicts"
   ]
  },
  {
   "cell_type": "markdown",
   "metadata": {},
   "source": [
    "### create dict"
   ]
  },
  {
   "cell_type": "code",
   "execution_count": 86,
   "metadata": {},
   "outputs": [
    {
     "data": {
      "text/plain": [
       "{'a': 1, 'b': 2, 'c': 3}"
      ]
     },
     "execution_count": 86,
     "metadata": {},
     "output_type": "execute_result"
    }
   ],
   "source": [
    "dict1 = {'a':1,'b':2,'c':3}\n",
    "dict1"
   ]
  },
  {
   "cell_type": "code",
   "execution_count": 71,
   "metadata": {},
   "outputs": [
    {
     "data": {
      "text/plain": [
       "2"
      ]
     },
     "execution_count": 71,
     "metadata": {},
     "output_type": "execute_result"
    }
   ],
   "source": [
    "len(dict1)"
   ]
  },
  {
   "cell_type": "markdown",
   "metadata": {},
   "source": [
    "### accessing dicts"
   ]
  },
  {
   "cell_type": "code",
   "execution_count": 95,
   "metadata": {},
   "outputs": [
    {
     "name": "stdout",
     "output_type": "stream",
     "text": [
      "1\n",
      "1\n",
      "None\n"
     ]
    }
   ],
   "source": [
    "# getting values\n",
    "print(dict1['a'])\n",
    "print(dict1.get('b')) # will not throw error if key DNE\n",
    "print(dict1.get('d')) # instead None"
   ]
  },
  {
   "cell_type": "code",
   "execution_count": 96,
   "metadata": {},
   "outputs": [
    {
     "name": "stdout",
     "output_type": "stream",
     "text": [
      "a\n",
      "b\n",
      "c\n",
      "a 1\n",
      "b 1\n",
      "c 3\n",
      "{'a': 1, 'b': 1, 'c': 3}\n",
      "1\n",
      "1\n",
      "3\n"
     ]
    }
   ],
   "source": [
    "# getting keys, values, items, looping through them\n",
    "# for k in dict1: # same as below\n",
    "for k in dict1.keys():\n",
    "    print(k)\n",
    "for k,v in dict1.items():\n",
    "    print(k,v)\n",
    "# can also use items to make a copy\n",
    "dict1_copy = dict1.copy()\n",
    "# or: dict1_copy = dict(dict1)\n",
    "print(dict1_copy)\n",
    "for v in dict1.values():\n",
    "    print(v)"
   ]
  },
  {
   "cell_type": "code",
   "execution_count": 97,
   "metadata": {},
   "outputs": [
    {
     "name": "stdout",
     "output_type": "stream",
     "text": [
      "a in dict1\n"
     ]
    }
   ],
   "source": [
    "# check if key exists\n",
    "if 'a' in dict1: print('a in dict1')"
   ]
  },
  {
   "cell_type": "markdown",
   "metadata": {},
   "source": [
    "### modifying dict items"
   ]
  },
  {
   "cell_type": "code",
   "execution_count": 98,
   "metadata": {},
   "outputs": [
    {
     "name": "stdout",
     "output_type": "stream",
     "text": [
      "{'a': 0, 'b': 1, 'c': 3}\n",
      "{'a': 1, 'b': 1, 'c': 3}\n"
     ]
    },
    {
     "data": {
      "text/plain": [
       "{'a': 1, 'b': 1, 'c': 3, 'd': 7}"
      ]
     },
     "execution_count": 98,
     "metadata": {},
     "output_type": "execute_result"
    }
   ],
   "source": [
    "# updating dict items\n",
    "dict1['a'] = 0\n",
    "print(dict1)\n",
    "# or update multiple\n",
    "dict1.update({'a':1,'b':1})\n",
    "print(dict1)\n",
    "# use a nonexistent key to add items\n",
    "dict1['d']=7\n",
    "dict1"
   ]
  },
  {
   "cell_type": "code",
   "execution_count": 99,
   "metadata": {},
   "outputs": [
    {
     "data": {
      "text/plain": [
       "{'a': 1, 'b': 1, 'c': 3}"
      ]
     },
     "execution_count": 99,
     "metadata": {},
     "output_type": "execute_result"
    }
   ],
   "source": [
    "# remove items\n",
    "dict1.pop('d')\n",
    "dict1"
   ]
  },
  {
   "cell_type": "code",
   "execution_count": null,
   "metadata": {},
   "outputs": [],
   "source": [
    "# .popitem (removes last inserted item)\n",
    "# del dict[key] same thing, del and clear() to completely clear"
   ]
  },
  {
   "cell_type": "code",
   "execution_count": 101,
   "metadata": {},
   "outputs": [
    {
     "data": {
      "text/plain": [
       "{'b': 3, 'c': 3}"
      ]
     },
     "execution_count": 101,
     "metadata": {},
     "output_type": "execute_result"
    }
   ],
   "source": [
    "# nested dict... you know\n",
    "# create a new dict with keys and default value\n",
    "dict1a = dict1.fromkeys(('b','c'),3)\n",
    "dict1a"
   ]
  },
  {
   "cell_type": "markdown",
   "metadata": {},
   "source": [
    "## matrices\n",
    "When creating a matrix (an m x n list of lists) in Python, it is generally more efficient to predefine the matrix size rather than appending to the list of lists as you go. Predefining the matrix ensures that memory is allocated at once, and you avoid the overhead associated with repeatedly resizing lists."
   ]
  },
  {
   "cell_type": "code",
   "execution_count": 2,
   "metadata": {},
   "outputs": [
    {
     "data": {
      "text/plain": [
       "[[0, 0, 0, 0], [0, 0, 0, 0], [0, 0, 0, 0]]"
      ]
     },
     "execution_count": 2,
     "metadata": {},
     "output_type": "execute_result"
    }
   ],
   "source": [
    "m = 3  # Number of rows\n",
    "n = 4  # Number of columns\n",
    "\n",
    "# Create a matrix of size m x n filled with 0s\n",
    "matrix = [[0 for _ in range(n)] for _ in range(m)]\n",
    "matrix"
   ]
  },
  {
   "cell_type": "markdown",
   "metadata": {},
   "source": [
    "## 1314. matrix block sum"
   ]
  },
  {
   "cell_type": "code",
   "execution_count": null,
   "metadata": {},
   "outputs": [],
   "source": [
    "# \n",
    "class Solution:\n",
    "    # soln 1: brute force\n",
    "    # def matrixBlockSum(self, mat: List[List[int]], k: int) -> List[List[int]]:\n",
    "    #     # return a matrix of block sums\n",
    "    #     m = len(mat) # rows\n",
    "    #     n = len(mat[0]) # columns\n",
    "    #     # print('mat',mat, m,n)\n",
    "\n",
    "    #     # initialize matrix\n",
    "    #     answer = [[0 for _ in range(n)] for _ in range(m)]\n",
    "\n",
    "    #     # calculate cells of block sum matrix\n",
    "    #     for i in range(0,m):\n",
    "    #         for j in range(0,n):\n",
    "    #             # calculate block sum cell value, cumulatively\n",
    "    #             block_sum = 0\n",
    "    #             for r in range(max((i - k),0), min((i+k+1), m)):\n",
    "    #                 for c in range(max((j - k),0), min((j+k+1),n)):\n",
    "    #                     # print('r,c',r,c)\n",
    "    #                     block_sum += mat[r][c] \n",
    "    #             answer[i][j] = block_sum\n",
    "    #     return answer\n",
    "\n",
    "    def matrixBlockSum(self, mat: List[List[int]], k: int) -> List[List[int]]:\n",
    "        m, n = len(mat), len(mat[0])\n",
    "        \n",
    "        # Step 1: Compute the cumulative sum matrix\n",
    "        cumulative_sum = [[0] * (n + 1) for _ in range(m + 1)]\n",
    "        \n",
    "        # populate \n",
    "        for i in range(1, m + 1):\n",
    "            for j in range(1, n + 1):\n",
    "                cumulative_sum[i][j] = mat[i-1][j-1] + cumulative_sum[i-1][j] + cumulative_sum[i][j-1] - cumulative_sum[i-1][j-1]\n",
    "        \n",
    "        # print('cumulative_sum',cumulative_sum)\n",
    "\n",
    "        # Step 2: Use the cumulative sum matrix to compute the result\n",
    "        result = [[0] * n for _ in range(m)]\n",
    "        \n",
    "        # iterate by row (through columns)\n",
    "        for i in range(m):\n",
    "            for j in range(n):\n",
    "\n",
    "\n",
    "                r1 = max(0, i - k) # row lower bound (at least 0)\n",
    "                c1 =  max(0, j - k) # col lower bound \n",
    "                r2 = min(m - 1, i + k) # row upper bound (at most og length)\n",
    "                c2 = min(n - 1, j + k) # col upper boudn\n",
    "\n",
    "                result[i][j] = (\n",
    "                    cumulative_sum[r2 + 1][c2 + 1]\n",
    "                    - cumulative_sum[r1][c2 + 1]\n",
    "                    - cumulative_sum[r2 + 1][c1]\n",
    "                    + cumulative_sum[r1][c1]\n",
    "                )\n",
    "                # print('result',result)\n",
    "        \n",
    "        return result\n"
   ]
  },
  {
   "cell_type": "code",
   "execution_count": 1,
   "metadata": {},
   "outputs": [],
   "source": [
    "import numpy as np"
   ]
  },
  {
   "cell_type": "code",
   "execution_count": 9,
   "metadata": {},
   "outputs": [
    {
     "name": "stdout",
     "output_type": "stream",
     "text": [
      "2\n",
      "[[1 2 3]\n",
      " [4 5 6]] 3.5 [2.5 3.5 4.5] [2. 5.]\n"
     ]
    }
   ],
   "source": [
    "a = np.array([[1,2,3],[4,5,6]])\n",
    "print(a[0][1]) # row 0, col 1\n",
    "b=a.mean() # entire array\n",
    "c=a.mean(axis = 0) # columns\n",
    "d=a.mean(axis = 1) # rows\n",
    "print(a,b,c,d)"
   ]
  },
  {
   "cell_type": "code",
   "execution_count": 12,
   "metadata": {},
   "outputs": [
    {
     "data": {
      "text/plain": [
       "array([[2, 3, 3],\n",
       "       [1, 0, 6]])"
      ]
     },
     "execution_count": 12,
     "metadata": {},
     "output_type": "execute_result"
    }
   ],
   "source": [
    "z = np.array([[3,2,3],[1,0,6]])\n",
    "# z.sort() # sorts by row\n",
    "z[0].sort()\n",
    "z"
   ]
  },
  {
   "cell_type": "code",
   "execution_count": 16,
   "metadata": {},
   "outputs": [
    {
     "name": "stdout",
     "output_type": "stream",
     "text": [
      "6\n",
      "6\n",
      "[[2 3]]\n"
     ]
    }
   ],
   "source": [
    "# subset, slice, index\n",
    "print(a[1][2])\n",
    "print(a[1,2])\n",
    "print(a[0:1,1:]) # row 1, col 1:2"
   ]
  },
  {
   "cell_type": "code",
   "execution_count": 23,
   "metadata": {},
   "outputs": [
    {
     "name": "stdout",
     "output_type": "stream",
     "text": [
      "[[4 5 6]\n",
      " [1 2 3]]\n"
     ]
    },
    {
     "data": {
      "text/plain": [
       "array([[6, 5, 4],\n",
       "       [3, 2, 1]])"
      ]
     },
     "execution_count": 23,
     "metadata": {},
     "output_type": "execute_result"
    }
   ],
   "source": [
    "a[1,:] # a[1] same\n",
    "print(a[::-1]) # reverses arrays elements (rows), not sub elements\n",
    "np.array([a1[::-1] for a1 in a][::-1]) # reverse all elements"
   ]
  },
  {
   "cell_type": "code",
   "execution_count": 26,
   "metadata": {},
   "outputs": [
    {
     "data": {
      "text/plain": [
       "array([[0., 0., 0., 0., 0.]])"
      ]
     },
     "execution_count": 26,
     "metadata": {},
     "output_type": "execute_result"
    }
   ],
   "source": [
    "np.ones([3,4])\n",
    "np.zeros([1,5])"
   ]
  }
 ],
 "metadata": {
  "kernelspec": {
   "display_name": "Python 3",
   "language": "python",
   "name": "python3"
  },
  "language_info": {
   "codemirror_mode": {
    "name": "ipython",
    "version": 3
   },
   "file_extension": ".py",
   "mimetype": "text/x-python",
   "name": "python",
   "nbconvert_exporter": "python",
   "pygments_lexer": "ipython3",
   "version": "3.10.11"
  }
 },
 "nbformat": 4,
 "nbformat_minor": 2
}
