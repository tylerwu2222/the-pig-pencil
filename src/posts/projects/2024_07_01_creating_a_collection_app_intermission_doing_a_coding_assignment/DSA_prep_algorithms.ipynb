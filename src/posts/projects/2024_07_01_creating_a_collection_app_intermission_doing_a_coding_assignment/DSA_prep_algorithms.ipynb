{
 "cells": [
  {
   "cell_type": "code",
   "execution_count": 1,
   "metadata": {},
   "outputs": [],
   "source": [
    "import pandas as pd\n",
    "import numpy"
   ]
  },
  {
   "cell_type": "markdown",
   "metadata": {},
   "source": [
    "# search algorithms"
   ]
  },
  {
   "cell_type": "code",
   "execution_count": 4,
   "metadata": {},
   "outputs": [],
   "source": [
    "# create ex data\n",
    "x = list(range(0,9))\n"
   ]
  },
  {
   "cell_type": "code",
   "execution_count": 22,
   "metadata": {},
   "outputs": [],
   "source": [
    "# linear search\n",
    "def linear_search(list, target):\n",
    "    for i in range(0,len(list)):\n",
    "        if list[i] == target:\n",
    "            return i\n",
    "        \n",
    "    return None\n",
    "\n",
    "# binary search\n",
    "def binary_search(list, target):\n",
    "    first = 0\n",
    "    last = len(list) - 1\n",
    "    # when first = last, then only 1 entry, midpoint, which must be #\n",
    "    while(first <= last):\n",
    "        mid = (first + last)//2 # integer division, round down\n",
    "        # end case\n",
    "        if list[mid] == target:\n",
    "            return mid\n",
    "        # in upper half (move first higher)\n",
    "        elif list[mid] < target:\n",
    "            first = mid + 1\n",
    "        # in lowwer half (move last lower)\n",
    "        else:\n",
    "            last = mid -1\n",
    "            \n",
    "    return None\n",
    "\n",
    "# recursive binary search\n",
    "def recursive_binary_search(list, target):\n",
    "    # base case\n",
    "    if len(list) == 0:\n",
    "        return False\n",
    "    # recursion\n",
    "    else:\n",
    "        midpoint = (len(list))//2\n",
    "        if list[midpoint] == target:\n",
    "            return True\n",
    "        else:\n",
    "            if list[midpoint] < target:\n",
    "                # target > midpoint, search in slice from midpt (+1) to end\n",
    "                return recursive_binary_search(list[midpoint+1:],target)\n",
    "            else:\n",
    "                # target < midpoint, search in slice from start to midpt (-1)\n",
    "                return recursive_binary_search(list[:midpoint], target)\n",
    "    "
   ]
  },
  {
   "cell_type": "code",
   "execution_count": 18,
   "metadata": {},
   "outputs": [],
   "source": [
    "def test_search_alg(result):\n",
    "    if(result):\n",
    "        print('target found:',result)\n",
    "    else:\n",
    "        print('not found')"
   ]
  },
  {
   "cell_type": "code",
   "execution_count": 23,
   "metadata": {},
   "outputs": [
    {
     "name": "stdout",
     "output_type": "stream",
     "text": [
      "target found: 5\n",
      "target found: 5\n",
      "target found: True\n"
     ]
    }
   ],
   "source": [
    "# test algorithms\n",
    "test_search_alg(linear_search(x,5))\n",
    "test_search_alg(binary_search(x,5))\n",
    "test_search_alg(recursive_binary_search(x,5))"
   ]
  },
  {
   "cell_type": "markdown",
   "metadata": {},
   "source": [
    "# sort algorithms"
   ]
  },
  {
   "cell_type": "code",
   "execution_count": 34,
   "metadata": {},
   "outputs": [],
   "source": [
    "# merge sort...\n",
    "def split_list(list):\n",
    "    '''\n",
    "    takes O(n) to completely split\n",
    "    '''\n",
    "    print('splitting', list)\n",
    "    midpoint = len(list)//2\n",
    "    list1 = list[:midpoint]\n",
    "    list2 = list[midpoint:]\n",
    "    return list1, list2\n",
    "\n",
    "\n",
    "def merge_list(list1, list2):\n",
    "    '''\n",
    "    takes n total merges\n",
    "    '''\n",
    "    print('merging', list1, list2)\n",
    "    merged_list = []\n",
    "    # iterate through all elts. of each sublist, then append to merged list\n",
    "    i = 0\n",
    "    j = 0\n",
    "    while i < len(list1) and j < len(list2):\n",
    "        if (list1[i] < list2[j]):\n",
    "            print('i < j')\n",
    "            merged_list.append(list1[i])\n",
    "            i += 1\n",
    "        else:\n",
    "            print('i >= j')\n",
    "            merged_list.append(list2[j])\n",
    "            j += 1\n",
    "\n",
    "    # if still items unappended from list1 (i.e. all > list2 elements)\n",
    "    while i < len(list1):\n",
    "        merged_list.append(list1[i])\n",
    "        i += 1\n",
    "    while j < len(list2):\n",
    "        merged_list.append(list2[j])\n",
    "        j += 1\n",
    "\n",
    "    print('merged!', merged_list)\n",
    "    return merged_list\n",
    "\n",
    "\n",
    "def merge_sort(list):\n",
    "    # len 1 = already sorted\n",
    "    if (len(list) <= 1):\n",
    "        return list\n",
    "    # step 1: splitting list recursively\n",
    "    left_half, right_half = split_list(list)\n",
    "    sorted_left = merge_sort(left_half)\n",
    "    sorted_right = merge_sort(right_half)\n",
    "\n",
    "    # step 2: joining list recursively\n",
    "    return merge_list(sorted_left, sorted_right)\n",
    "\n",
    "\n",
    "def bubble_sort(list):\n",
    "    "
   ]
  },
  {
   "cell_type": "code",
   "execution_count": 44,
   "metadata": {},
   "outputs": [],
   "source": [
    "# ENSURING CORRECTNESS\n",
    "def verify_sorted(list):\n",
    "    n = len(list)\n",
    "\n",
    "    if n <= 1:\n",
    "        return True\n",
    "    \n",
    "    return list[0] <= list[1] and verify_sorted(list[1:])\n",
    "\n",
    "def test_sort_alg(result):\n",
    "    if(result):\n",
    "        print('finished sorting:', result)\n",
    "        if verify_sorted(result):\n",
    "            print('this list is in ascending order!')\n",
    "    else:\n",
    "        print('unable to sort')"
   ]
  },
  {
   "cell_type": "code",
   "execution_count": 29,
   "metadata": {},
   "outputs": [],
   "source": [
    "unsorted_list = [3,1,4,6,4]"
   ]
  },
  {
   "cell_type": "code",
   "execution_count": 45,
   "metadata": {},
   "outputs": [
    {
     "name": "stdout",
     "output_type": "stream",
     "text": [
      "False\n",
      "True\n"
     ]
    }
   ],
   "source": [
    "print(verify_sorted(unsorted_list))\n",
    "print(verify_sorted([1,3,5]))"
   ]
  },
  {
   "cell_type": "code",
   "execution_count": 46,
   "metadata": {},
   "outputs": [
    {
     "name": "stdout",
     "output_type": "stream",
     "text": [
      "splitting [3, 1, 4, 6, 4]\n",
      "splitting [3, 1]\n",
      "merging [3] [1]\n",
      "i >= j\n",
      "merged! [1, 3]\n",
      "splitting [4, 6, 4]\n",
      "splitting [6, 4]\n",
      "merging [6] [4]\n",
      "i >= j\n",
      "merged! [4, 6]\n",
      "merging [4] [4, 6]\n",
      "i >= j\n",
      "i < j\n",
      "merged! [4, 4, 6]\n",
      "merging [1, 3] [4, 4, 6]\n",
      "i < j\n",
      "i < j\n",
      "merged! [1, 3, 4, 4, 6]\n",
      "finished sorting: [1, 3, 4, 4, 6]\n",
      "this list is in ascending order!\n"
     ]
    }
   ],
   "source": [
    "test_sort_alg(merge_sort(unsorted_list))"
   ]
  },
  {
   "cell_type": "code",
   "execution_count": null,
   "metadata": {},
   "outputs": [],
   "source": []
  }
 ],
 "metadata": {
  "kernelspec": {
   "display_name": "Python 3",
   "language": "python",
   "name": "python3"
  },
  "language_info": {
   "codemirror_mode": {
    "name": "ipython",
    "version": 3
   },
   "file_extension": ".py",
   "mimetype": "text/x-python",
   "name": "python",
   "nbconvert_exporter": "python",
   "pygments_lexer": "ipython3",
   "version": "3.10.11"
  }
 },
 "nbformat": 4,
 "nbformat_minor": 2
}
