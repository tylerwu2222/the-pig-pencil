{
 "cells": [
  {
   "cell_type": "code",
   "execution_count": 28,
   "metadata": {},
   "outputs": [],
   "source": [
    "import numpy as np"
   ]
  },
  {
   "cell_type": "code",
   "execution_count": 2,
   "metadata": {},
   "outputs": [
    {
     "name": "stdout",
     "output_type": "stream",
     "text": [
      "1\n"
     ]
    }
   ],
   "source": [
    "# checking range start > end\n",
    "for i in range(1,2):\n",
    "    print(i)\n",
    "\n",
    "# just doesn't run\n",
    "for i in range(1,1):\n",
    "    print(i)"
   ]
  },
  {
   "cell_type": "code",
   "execution_count": 3,
   "metadata": {},
   "outputs": [
    {
     "data": {
      "text/plain": [
       "[0, 1, 3]"
      ]
     },
     "execution_count": 3,
     "metadata": {},
     "output_type": "execute_result"
    }
   ],
   "source": [
    "# popping list\n",
    "seq = [0,1,2,3]\n",
    "seq.pop(2)\n",
    "seq"
   ]
  },
  {
   "cell_type": "markdown",
   "metadata": {},
   "source": [
    "### 7) almostIncreasingSeq"
   ]
  },
  {
   "cell_type": "code",
   "execution_count": null,
   "metadata": {},
   "outputs": [],
   "source": [
    "# almostIncreasingSequence\n",
    "def solution(sequence):\n",
    "    # convoluted track 3p solution (to know which index to remove)\n",
    "    noninc_count = 0\n",
    "    final_index = len(sequence) - 1\n",
    "    # 2p method\n",
    "    left = 0\n",
    "    right = 1\n",
    "    right2 = 2\n",
    "    while right <= final_index:\n",
    "        # print('lrs',left,right,sequence)\n",
    "        # increment indices if increasing\n",
    "        if sequence[left] < sequence[right]:\n",
    "            left += 1\n",
    "            right += 1\n",
    "            right2 += 1\n",
    "        # else, need to determine which index to remove\n",
    "        else:\n",
    "            # pop right if next > both left and right\n",
    "            if right2 <= final_index:\n",
    "                if (sequence[right] < sequence[right2] and sequence[left] < sequence[right2]):\n",
    "                    sequence.pop(right)\n",
    "                # else pop left\n",
    "                else:\n",
    "                    sequence.pop(left)\n",
    "                    if (left > 0):   \n",
    "                        left -=1\n",
    "                        right-=1\n",
    "                        right2-=1\n",
    "            noninc_count += 1\n",
    "            final_index -= 1\n",
    "        if noninc_count > 1:\n",
    "            return False\n",
    "    return True    "
   ]
  },
  {
   "cell_type": "code",
   "execution_count": 7,
   "metadata": {},
   "outputs": [
    {
     "name": "stdout",
     "output_type": "stream",
     "text": [
      "elt 1 left1 0 left2 0\n",
      "elt 2 left1 1 left2 0\n",
      "elt 1 left1 2 left2 1\n",
      "elt 2 left1 2 left2 2\n"
     ]
    },
    {
     "data": {
      "text/plain": [
       "False"
      ]
     },
     "execution_count": 7,
     "metadata": {},
     "output_type": "execute_result"
    }
   ],
   "source": [
    "# top solution\n",
    "def solution(sequence):\n",
    "    noninc_count = 0\n",
    "\n",
    "    # track minimum of sequence\n",
    "    left1 = left2 = min(sequence) - 1\n",
    "\n",
    "    for elt in sequence:\n",
    "        print('elt', elt, 'left1', left1, 'left2', left2)\n",
    "        # non increasing pair detected\n",
    "        if elt <= left1:\n",
    "            noninc_count += 1\n",
    "            if noninc_count > 1:\n",
    "                return False\n",
    "            if elt <= left2:\n",
    "                left2 = left1\n",
    "            elif elt >= left2:\n",
    "                left2 = left1 = elt\n",
    "        # shift all values\n",
    "        else:\n",
    "            left2 = left1\n",
    "            left1 = elt\n",
    "    return True\n",
    "\n",
    "solution([1, 2, 1, 2])"
   ]
  },
  {
   "cell_type": "markdown",
   "metadata": {},
   "source": [
    "### 10) commonCharCount"
   ]
  },
  {
   "cell_type": "code",
   "execution_count": null,
   "metadata": {},
   "outputs": [],
   "source": [
    "def solution(s1, s2):\n",
    "    # sort, then 2 pointers\n",
    "    common_count = 0\n",
    "    ss1 = sorted(s1)\n",
    "    ss2 = sorted(s2)\n",
    "    p1 = 0\n",
    "    p2 = 0\n",
    "    while p1 < len(ss1) and p2 < len(ss2):\n",
    "        if (ss1[p1] == ss2[p2]):\n",
    "            common_count += 1\n",
    "            p1 += 1\n",
    "            p2 += 1\n",
    "        elif (ss1[p1] < ss2[p2]):\n",
    "            p1 += 1\n",
    "        else:\n",
    "            p2 += 1\n",
    "    return common_count\n"
   ]
  },
  {
   "cell_type": "markdown",
   "metadata": {},
   "source": [
    "### 11) isLucky"
   ]
  },
  {
   "cell_type": "code",
   "execution_count": 8,
   "metadata": {},
   "outputs": [],
   "source": [
    "def solution(n):\n",
    "    str_n = str(n)\n",
    "    len_n = len(str_n)\n",
    "    # print('input',str_n,len_n)\n",
    "    first_half = sum([int(i) for i in str_n[:len_n//2]])\n",
    "    second_half = sum([int(i) for i in str_n[len_n//2:]])\n",
    "    # print('halves',first_half, second_half)\n",
    "    \n",
    "    return first_half == second_half"
   ]
  },
  {
   "cell_type": "markdown",
   "metadata": {},
   "source": [
    "### 12) sortByHeight"
   ]
  },
  {
   "cell_type": "code",
   "execution_count": 9,
   "metadata": {},
   "outputs": [],
   "source": [
    "# naive solution\n",
    "def solution(a):\n",
    "    tree_indices = []\n",
    "    # -1 indices\n",
    "    for i in range(0,len(a)):\n",
    "        if a[i] == -1:\n",
    "            tree_indices.append(i)\n",
    "    \n",
    "    humans = [item for i, item in enumerate(a) if i not in tree_indices]\n",
    "    # trees = [item for i, item in enumerate(a) if i in tree_indices]\n",
    "    sorted_humans = sorted(humans)\n",
    "    \n",
    "    # reconstruct sorted list\n",
    "    sorted_list = []\n",
    "    for i in range(0,len(a)):\n",
    "        if i in tree_indices:\n",
    "            sorted_list.append(-1)\n",
    "        else:\n",
    "            sorted_list.append(sorted_humans.pop(0))\n",
    "    return sorted_list"
   ]
  },
  {
   "cell_type": "code",
   "execution_count": 10,
   "metadata": {},
   "outputs": [
    {
     "data": {
      "text/plain": [
       "[1, 2, 3, 4]"
      ]
     },
     "execution_count": 10,
     "metadata": {},
     "output_type": "execute_result"
    }
   ],
   "source": [
    "# python insert function, list.insert(n,i)insert i at position n\n",
    "ex_list = [1,2,4]\n",
    "ex_list.insert(2,3)\n",
    "ex_list"
   ]
  },
  {
   "cell_type": "code",
   "execution_count": 13,
   "metadata": {},
   "outputs": [
    {
     "name": "stdout",
     "output_type": "stream",
     "text": [
      "0 [2, 3, 5]\n",
      "1 [-1, 2, 3, 5]\n",
      "2 [-1, 2, 3, 5]\n",
      "3 [-1, 2, -1, 3, 5]\n",
      "4 [-1, 2, -1, 3, 5]\n",
      "5 [-1, 2, -1, 3, -1, 5]\n"
     ]
    },
    {
     "data": {
      "text/plain": [
       "[-1, 2, -1, 3, -1, 5]"
      ]
     },
     "execution_count": 13,
     "metadata": {},
     "output_type": "execute_result"
    }
   ],
   "source": [
    "# cleaner: use insert function\n",
    "def solution(a):\n",
    "    # 1) get sorted non-tree humans\n",
    "    sorted_humans = sorted([i for i in a if i > 0])\n",
    "    # 2) get indices of -1 in original list, insert -1s into original indices\n",
    "    for index,value in enumerate(a):\n",
    "        print(index, sorted_humans)\n",
    "        if value == -1:\n",
    "            sorted_humans.insert(index,value)\n",
    "\n",
    "    return sorted_humans\n",
    "solution([-1,3,-1,2,-1,5])"
   ]
  },
  {
   "cell_type": "markdown",
   "metadata": {},
   "source": [
    "### 13) reverseInParentheses"
   ]
  },
  {
   "cell_type": "code",
   "execution_count": 16,
   "metadata": {},
   "outputs": [
    {
     "data": {
      "text/plain": [
       "'abcd'"
      ]
     },
     "execution_count": 16,
     "metadata": {},
     "output_type": "execute_result"
    }
   ],
   "source": [
    "ex_str = \"abc\"\n",
    "ex_str += 'd'\n",
    "ex_str"
   ]
  },
  {
   "cell_type": "code",
   "execution_count": 19,
   "metadata": {},
   "outputs": [
    {
     "data": {
      "text/plain": [
       "['a', 'b', 'c', 'd']"
      ]
     },
     "execution_count": 19,
     "metadata": {},
     "output_type": "execute_result"
    }
   ],
   "source": [
    "ex_str.split() # doesn't split on every char, instead use:\n",
    "[c for c in ex_str]"
   ]
  },
  {
   "cell_type": "code",
   "execution_count": 20,
   "metadata": {},
   "outputs": [],
   "source": [
    "# my jank solution, using a heap to hold ()\n",
    "def solution(inputString):\n",
    "    listString = [c for c in inputString]\n",
    "    open_indices = []\n",
    "    for i,c in enumerate(inputString):\n",
    "        if c == '(':\n",
    "            open_indices.append(i)\n",
    "        elif c == ')':\n",
    "            # get last/innermost open index --> reverse substring within ()\n",
    "            substring_start = open_indices.pop()\n",
    "            # reverse in place\n",
    "            listString[substring_start+1:i] = listString[substring_start+1:i][::-1]\n",
    "    listString = [c for c in listString if c not in ['(',')']] \n",
    "    return ''.join(listString)\n"
   ]
  },
  {
   "cell_type": "markdown",
   "metadata": {},
   "source": [
    "### 15) addBorder"
   ]
  },
  {
   "cell_type": "code",
   "execution_count": 22,
   "metadata": {},
   "outputs": [
    {
     "data": {
      "text/plain": [
       "'*****'"
      ]
     },
     "execution_count": 22,
     "metadata": {},
     "output_type": "execute_result"
    }
   ],
   "source": [
    "'*' * 5 #can do dis"
   ]
  },
  {
   "cell_type": "code",
   "execution_count": 41,
   "metadata": {},
   "outputs": [
    {
     "data": {
      "text/plain": [
       "[1, 1, 2, 2]"
      ]
     },
     "execution_count": 41,
     "metadata": {},
     "output_type": "execute_result"
    }
   ],
   "source": [
    "ex_list2 = [1,1,2,2]\n",
    "[i for i,v in enumerate(ex_list2) if v == 2]\n",
    "for i in range(0,2):\n",
    "    new_list = list(ex_list2)\n",
    "    new_list.append(1)\n",
    "ex_list2"
   ]
  },
  {
   "cell_type": "markdown",
   "metadata": {},
   "source": [
    "### 17) areSimilar"
   ]
  },
  {
   "cell_type": "code",
   "execution_count": 46,
   "metadata": {},
   "outputs": [],
   "source": [
    "# much longer solution\n",
    "#  def solution(a, b):\n",
    "#     swapped = False\n",
    "#     for i,v in enumerate(a):\n",
    "#        if v != b[i]:\n",
    "#             # already swapped -> return false\n",
    "#             if swapped == True:\n",
    "#                 return False\n",
    "#             # else try first swap\n",
    "#             else:\n",
    "#                 # try to find v in b, \n",
    "#                 # if found, try swapping with all v's and checking equality\n",
    "#                 if v in b and b[i] in a:\n",
    "#                     swap_indices = [i for i,val in enumerate(b) if val == v]  \n",
    "#                     for s in swap_indices:\n",
    "#                         temp = b[i]\n",
    "#                         b[i] = v\n",
    "#                         b[s] = temp\n",
    "#                         # return true if swap found\n",
    "#                         if b == a:\n",
    "#                             return True\n",
    "#                         # else, swap back\n",
    "#                         else:\n",
    "#                             temp = b[i]\n",
    "#                             b[i] = b[s]\n",
    "#                             b[s] = temp\n",
    "#                             swapped = True\n",
    "#                 else:\n",
    "#                     return False\n",
    "#     # if looped through all, then arrays are already same\n",
    "#     return True\n"
   ]
  },
  {
   "cell_type": "code",
   "execution_count": 59,
   "metadata": {},
   "outputs": [],
   "source": [
    "# much faster to use sorted or counter and counts of unequal\n",
    "  # if similar, need to be:\n",
    "    # same when sorted\n",
    "    # and only have 2 unequal elts (1 swap)\n",
    "def solution(A, B):\n",
    "    return sorted(A)==sorted(B) and sum([a!=b for a,b in zip(A,B)])<=2\n",
    "\n",
    "# from collections import Counter \n",
    "# def solution(a,b):\n",
    "#     # print([ai != bi for ai, bi in zip(a, b)])\n",
    "#     return Counter(a) == Counter(b) and sum(ai != bi for ai, bi in zip(a, b)) <= 2"
   ]
  },
  {
   "cell_type": "code",
   "execution_count": 61,
   "metadata": {},
   "outputs": [
    {
     "data": {
      "text/plain": [
       "False"
      ]
     },
     "execution_count": 61,
     "metadata": {},
     "output_type": "execute_result"
    }
   ],
   "source": [
    "# test\n",
    "a = [4,2,2,1]\n",
    "b = [2,2,2,1]\n",
    "solution(a,b)"
   ]
  },
  {
   "cell_type": "markdown",
   "metadata": {},
   "source": [
    "### 19) equallyStrong"
   ]
  },
  {
   "cell_type": "code",
   "execution_count": 62,
   "metadata": {},
   "outputs": [],
   "source": [
    "# my soln\n",
    "def solution(yourLeft, yourRight, friendsLeft, friendsRight):\n",
    "    yourWeakest, yourStrongest = min(yourLeft,yourRight), max(yourLeft,yourRight)\n",
    "    friendsWeakest, friendsStrongest = min(friendsLeft,friendsRight), max(friendsLeft,friendsRight)\n",
    "    \n",
    "    return yourWeakest == friendsWeakest and yourStrongest == friendsStrongest"
   ]
  },
  {
   "cell_type": "code",
   "execution_count": 65,
   "metadata": {},
   "outputs": [
    {
     "data": {
      "text/plain": [
       "{1, 2}"
      ]
     },
     "execution_count": 65,
     "metadata": {},
     "output_type": "execute_result"
    }
   ],
   "source": [
    "# trick\n",
    "{2,1} # set will automatically \"sort\""
   ]
  },
  {
   "cell_type": "code",
   "execution_count": 66,
   "metadata": {},
   "outputs": [
    {
     "data": {
      "text/plain": [
       "True"
      ]
     },
     "execution_count": 66,
     "metadata": {},
     "output_type": "execute_result"
    }
   ],
   "source": [
    "# shorter\n",
    "def solution(yourLeft, yourRight, friendsLeft, friendsRight):\n",
    "    return {yourLeft, yourRight} == {friendsLeft,friendsRight}\n",
    "    # return sorted([yourLeft, yourRight]) == sorted([friendsLeft,friendsRight])\n",
    "solution(1,3,3,1)"
   ]
  },
  {
   "cell_type": "markdown",
   "metadata": {},
   "source": [
    "### 20) arrayMaximalAdjacentDifference"
   ]
  },
  {
   "cell_type": "code",
   "execution_count": 68,
   "metadata": {},
   "outputs": [
    {
     "data": {
      "text/plain": [
       "2"
      ]
     },
     "execution_count": 68,
     "metadata": {},
     "output_type": "execute_result"
    }
   ],
   "source": [
    "def solution(inputArray):\n",
    "    first = inputArray[:len(inputArray)-1]\n",
    "    second = inputArray[1:]\n",
    "    \n",
    "    diffs = [a - b for a,b in zip(first,second)]\n",
    "    return max([abs(d) for d in diffs])\n",
    "\n",
    "# slightly shorter\n",
    "def solution(a):\n",
    "    diffs=[abs(a[i]-a[i+1]) for i in range(len(a)-1)]\n",
    "    return max(diffs)\n",
    "\n",
    "solution([1,3,5,3])"
   ]
  },
  {
   "cell_type": "markdown",
   "metadata": {},
   "source": [
    "### 21) isIPv4Address"
   ]
  },
  {
   "cell_type": "code",
   "execution_count": 70,
   "metadata": {},
   "outputs": [
    {
     "data": {
      "text/plain": [
       "False"
      ]
     },
     "execution_count": 70,
     "metadata": {},
     "output_type": "execute_result"
    }
   ],
   "source": [
    "all([True,False])"
   ]
  },
  {
   "cell_type": "code",
   "execution_count": 71,
   "metadata": {},
   "outputs": [
    {
     "data": {
      "text/plain": [
       "False"
      ]
     },
     "execution_count": 71,
     "metadata": {},
     "output_type": "execute_result"
    }
   ],
   "source": [
    "'1a'.isnumeric()"
   ]
  },
  {
   "cell_type": "code",
   "execution_count": 72,
   "metadata": {},
   "outputs": [
    {
     "data": {
      "text/plain": [
       "False"
      ]
     },
     "execution_count": 72,
     "metadata": {},
     "output_type": "execute_result"
    }
   ],
   "source": [
    "def solution(inputString):\n",
    "    numbers = inputString.split('.')\n",
    "    \n",
    "    # must be 4 segments\n",
    "    if len(numbers) != 4:\n",
    "        return False\n",
    "        \n",
    "    allNumeric = all([n.isnumeric() and n != '' and (n == '0' or n[0] != '0') for n in numbers])\n",
    "    if not allNumeric:\n",
    "        return False\n",
    "    \n",
    "    else:\n",
    "        return all([int(n) >= 0 and int(n) <= 255 for n in numbers])\n",
    "\n",
    "## edge case\n",
    "ipString = '01.22.224.255' # 01 should return false\n",
    "solution(ipString)"
   ]
  },
  {
   "cell_type": "code",
   "execution_count": 76,
   "metadata": {},
   "outputs": [
    {
     "data": {
      "text/plain": [
       "False"
      ]
     },
     "execution_count": 76,
     "metadata": {},
     "output_type": "execute_result"
    }
   ],
   "source": [
    "# cheat mode\n",
    "import ipaddress\n",
    "def solution(inputString):\n",
    "    try:\n",
    "        ipaddress.ip_address(inputString)        \n",
    "    except:\n",
    "        return False\n",
    "    return True\n",
    "## edge case\n",
    "ipString = '01.22.224.255' # 01 should return false\n",
    "solution(ipString)"
   ]
  },
  {
   "cell_type": "markdown",
   "metadata": {},
   "source": [
    "### 22) avoidObstacles"
   ]
  },
  {
   "cell_type": "code",
   "execution_count": 81,
   "metadata": {},
   "outputs": [
    {
     "data": {
      "text/plain": [
       "[0, 2, 4]"
      ]
     },
     "execution_count": 81,
     "metadata": {},
     "output_type": "execute_result"
    }
   ],
   "source": [
    "# use range to create sequence\n",
    "list(range(0,5,2))"
   ]
  },
  {
   "cell_type": "code",
   "execution_count": 82,
   "metadata": {},
   "outputs": [
    {
     "data": {
      "text/plain": [
       "False"
      ]
     },
     "execution_count": 82,
     "metadata": {},
     "output_type": "execute_result"
    }
   ],
   "source": [
    "# and sets to check for no overlap between lists\n",
    "set([0,1,2]).isdisjoint([1,2,3])"
   ]
  },
  {
   "cell_type": "code",
   "execution_count": null,
   "metadata": {},
   "outputs": [],
   "source": [
    "def solution(inputArray):\n",
    "    # array is at least len 2, between 1 and 1000\n",
    "    # so max jump would be max(inputArray) + 1\n",
    "    # and min jump would be at least 2 (e.g [1,3])\n",
    "    # would need at least\n",
    "    # try finding minimal jump\n",
    "    for jump in range(2,max(inputArray) + 2):\n",
    "        # create jump list\n",
    "        jumps = list(range(0,max(inputArray) + jump,jump))\n",
    "        # make sure no overlap\n",
    "        if set(jumps).isdisjoint(inputArray):\n",
    "            return jump \n"
   ]
  },
  {
   "cell_type": "markdown",
   "metadata": {},
   "source": [
    "### 23) boxBlur"
   ]
  },
  {
   "cell_type": "code",
   "execution_count": 99,
   "metadata": {},
   "outputs": [
    {
     "data": {
      "text/plain": [
       "[[0, 1], [0, 1], [0, 1], [0, 1]]"
      ]
     },
     "execution_count": 99,
     "metadata": {},
     "output_type": "execute_result"
    }
   ],
   "source": [
    "# cols, rows\n",
    "test = [[0] * 2] * 4\n",
    "test[0][1] = 1\n",
    "test"
   ]
  },
  {
   "cell_type": "code",
   "execution_count": 102,
   "metadata": {},
   "outputs": [
    {
     "data": {
      "text/plain": [
       "array([[1, 2, 3],\n",
       "       [4, 5, 6]])"
      ]
     },
     "execution_count": 102,
     "metadata": {},
     "output_type": "execute_result"
    }
   ],
   "source": [
    "np.reshape([1,2,3,4,5,6],[2,3])"
   ]
  },
  {
   "cell_type": "code",
   "execution_count": null,
   "metadata": {},
   "outputs": [],
   "source": [
    "# use numpy to reshape\n",
    "import numpy as np\n",
    "\n",
    "def solution(image):\n",
    "    blurred_rows = len(image) - 2\n",
    "    blurred_cols = len(image[0]) - 2\n",
    "    # print(blurred_rows,blurred_cols)\n",
    "    blurred_image = [] # will be dim (n-1) x (n-1)\n",
    "    print(blurred_image)\n",
    "    for r in range(1,blurred_rows+1):\n",
    "        for c in range(1,blurred_cols+1):\n",
    "            # print('row',r,'col',c)\n",
    "            sub_img = [row[c-1:c+2] for row in image[r-1:r+2]]\n",
    "            # print('sub',sub_img)\n",
    "            sub_img_avg = sum([sum(row) for row in sub_img])//9\n",
    "            # print('avg',sub_img_avg,'for',r-1,c-1)\n",
    "            blurred_image.append(sub_img_avg)\n",
    "    blurred_image = np.reshape(blurred_image, [blurred_rows, blurred_cols])\n",
    "    return blurred_image\n",
    "\n",
    "\n",
    "solution(\n",
    "    [\n",
    "        [1,2,3],\n",
    "        [2,2,4],\n",
    "        [3,2,3],\n",
    "     ]\n",
    ")"
   ]
  },
  {
   "cell_type": "code",
   "execution_count": null,
   "metadata": {},
   "outputs": [],
   "source": [
    "# shorter soln\n",
    "def solution(image):\n",
    "    return [[sum(sum(sub_image[col:col+3]) for sub_image in image[row:row+3])/9 \n",
    "                                   for col in range(len(image[0])-2)] \n",
    "                                   for row in range(len(image)-2)]"
   ]
  },
  {
   "cell_type": "markdown",
   "metadata": {},
   "source": [
    "### 24) minesweeper"
   ]
  },
  {
   "cell_type": "code",
   "execution_count": 116,
   "metadata": {},
   "outputs": [
    {
     "name": "stdout",
     "output_type": "stream",
     "text": [
      "[[1. 1. 1.]\n",
      " [1. 1. 2.]\n",
      " [1. 1. 1.]]\n"
     ]
    },
    {
     "data": {
      "text/plain": [
       "array([[1., 1.],\n",
       "       [1., 1.]])"
      ]
     },
     "execution_count": 116,
     "metadata": {},
     "output_type": "execute_result"
    }
   ],
   "source": [
    "ex_list3 = np.ones([3,3])\n",
    "ex_list3\n",
    "ex_list3[1,2] = 2\n",
    "print(ex_list3)\n",
    "ex_list3[0:2,0:2]"
   ]
  },
  {
   "cell_type": "code",
   "execution_count": null,
   "metadata": {},
   "outputs": [],
   "source": [
    "# my numpy solution\n",
    "import numpy as np\n",
    "def solution(matrix):\n",
    "    # convert matrix to np\n",
    "    numpy_matrix = np.array(matrix)\n",
    "    # create np matrix to store numbers\n",
    "    number_matrix = np.ones([len(matrix),len(matrix[0])])\n",
    "    for row in range(0,len(matrix)):\n",
    "        for col in range(0,len(matrix[0])):\n",
    "            # get dimensions for adjacent matrix, and define\n",
    "            start_row, end_row = max(0,row-1),min(row+2,len(matrix))\n",
    "            start_col, end_col = max(0,col-1),min(col+2,len(matrix[0]))\n",
    "            adj_matrix = numpy_matrix[start_row:end_row,start_col:end_col]\n",
    "            # sum all mines in area - self\n",
    "            adjacent_mines = np.sum(adj_matrix) - int(matrix[row][col])\n",
    "            number_matrix[row,col] = adjacent_mines\n",
    "    return number_matrix\n",
    "            \n"
   ]
  },
  {
   "cell_type": "code",
   "execution_count": null,
   "metadata": {},
   "outputs": [],
   "source": [
    "# faster\n",
    "def solution(matrix):\n",
    "\n",
    "    r = []\n",
    "    \n",
    "    for i in range(len(matrix)):\n",
    "        r.append([])\n",
    "        for j in range(len(matrix[0])):\n",
    "            l = -matrix[i][j]\n",
    "            for x in [-1,0,1]:\n",
    "                for y in [-1,0,1]:\n",
    "                    if 0<=i+x<len(matrix) and 0<=j+y<len(matrix[0]):\n",
    "                        l += matrix[i+x][j+y]\n",
    "\n",
    "            r[i].append(l)\n",
    "    return r\n",
    "                    "
   ]
  },
  {
   "cell_type": "code",
   "execution_count": null,
   "metadata": {},
   "outputs": [],
   "source": []
  },
  {
   "cell_type": "code",
   "execution_count": 117,
   "metadata": {},
   "outputs": [
    {
     "data": {
      "text/plain": [
       "[0, 3, 2, 3]"
      ]
     },
     "execution_count": 117,
     "metadata": {},
     "output_type": "execute_result"
    }
   ],
   "source": [
    "def solution(inputArray, elemToReplace, substitutionElem):\n",
    "    return [substitutionElem if i == elemToReplace else i for i in inputArray]\n",
    "solution([0,1,2,1],1,3)"
   ]
  },
  {
   "cell_type": "code",
   "execution_count": 121,
   "metadata": {},
   "outputs": [
    {
     "data": {
      "text/plain": [
       "['0', '1', '2', '3', '4', '5', '6', '7', '8', '9']"
      ]
     },
     "execution_count": 121,
     "metadata": {},
     "output_type": "execute_result"
    }
   ],
   "source": [
    "import string\n",
    "[l for l in string.ascii_letters] + ['_']\n",
    "[str(n) for n in list(range(0,10))]"
   ]
  },
  {
   "cell_type": "code",
   "execution_count": 123,
   "metadata": {},
   "outputs": [
    {
     "data": {
      "text/plain": [
       "{'A': 0, 'B': 1, 'C': 2, 'D': 3, 'E': 4, 'F': 5, 'G': 6, 'H': 7}"
      ]
     },
     "execution_count": 123,
     "metadata": {},
     "output_type": "execute_result"
    }
   ],
   "source": [
    "dict(zip(string.ascii_uppercase[:8],range(9)))\n"
   ]
  },
  {
   "cell_type": "markdown",
   "metadata": {},
   "source": [
    "### 34) stringsRearrangement"
   ]
  },
  {
   "cell_type": "code",
   "execution_count": 2,
   "metadata": {},
   "outputs": [
    {
     "name": "stdout",
     "output_type": "stream",
     "text": [
      "array is empty\n"
     ]
    }
   ],
   "source": [
    "emptyArray = []\n",
    "if not emptyArray:\n",
    "    print('array is empty')"
   ]
  },
  {
   "cell_type": "code",
   "execution_count": null,
   "metadata": {},
   "outputs": [],
   "source": [
    "# someone else' solution... I know intuitively, we need to consider all permutations of stringarray...\n",
    "# and I created the diff function on my own...\n",
    "from itertools import permutations\n",
    "\n",
    "def diff(w1, w2):\n",
    "    return sum([a[0] != a[1] for a in zip(w1, w2)]) == 1\n",
    "\n",
    "def solution(inputArray):\n",
    "    for z in permutations(inputArray):\n",
    "        if sum([diff(*x) for x in zip(z, z[1:])]) == len(inputArray) - 1:\n",
    "            return True\n",
    "    return False\n"
   ]
  },
  {
   "cell_type": "markdown",
   "metadata": {},
   "source": [
    "### 34) extract each kth digit"
   ]
  },
  {
   "cell_type": "code",
   "execution_count": 1,
   "metadata": {},
   "outputs": [],
   "source": [
    "def solution(inputArray, k):\n",
    "    pop_indices = range(k-1,len(inputArray),k)\n",
    "    for p in pop_indices[::-1]:\n",
    "        inputArray.pop(p)\n",
    "    return inputArray\n"
   ]
  },
  {
   "cell_type": "markdown",
   "metadata": {},
   "source": [
    "### 35) different symbols naive"
   ]
  },
  {
   "cell_type": "code",
   "execution_count": 2,
   "metadata": {},
   "outputs": [],
   "source": [
    "# using set\n",
    "def solution(s):\n",
    "    return len(set(s))\n",
    "# longer, with unique list\n",
    "def solution(s):\n",
    "    unique_chars = []\n",
    "    for c in s:\n",
    "        if c not in unique_chars:\n",
    "            unique_chars.append(c)\n",
    "    return len(unique_chars)"
   ]
  },
  {
   "cell_type": "markdown",
   "metadata": {},
   "source": [
    "### 36) max consecuive sum"
   ]
  },
  {
   "cell_type": "code",
   "execution_count": 16,
   "metadata": {},
   "outputs": [
    {
     "data": {
      "text/plain": [
       "[3, 6, 11]"
      ]
     },
     "execution_count": 16,
     "metadata": {},
     "output_type": "execute_result"
    }
   ],
   "source": [
    "ogArray = [1,2,4,7,0]\n",
    "k=2\n",
    "consecutiveSum = [sum(ogArray[i:i+k]) for i in range(0,len(ogArray)-k)]\n",
    "consecutiveSum\n",
    "# [sub[i] for sub in [1,2,3,4]]\n",
    "# sub = [1,2,3]\n",
    "# [[sub[i:i+1] for i in [0,1]] for sub in [[2,3,4],[3,4,5]]]"
   ]
  },
  {
   "cell_type": "code",
   "execution_count": null,
   "metadata": {},
   "outputs": [],
   "source": [
    "# both these too slow:\n",
    "def solution(inputArray, k):\n",
    "    # maxSum = 0\n",
    "    # for i in range(0,len(inputArray)-k+1):\n",
    "    #     if sum(inputArray[i:i+k]) > maxSum:\n",
    "    #         maxSum = sum(inputArray[i:i+k])\n",
    "    # return maxSum\n",
    "    return max([sum(inputArray[i:i+k]) for i in range(0,len(inputArray)-k+1)])\n"
   ]
  },
  {
   "cell_type": "code",
   "execution_count": 31,
   "metadata": {},
   "outputs": [
    {
     "name": "stdout",
     "output_type": "stream",
     "text": [
      "[[1, 2, 3, 4, 5, 4, 3], [2, 3, 4, 5, 4, 3, 2]]\n"
     ]
    },
    {
     "data": {
      "text/plain": [
       "9"
      ]
     },
     "execution_count": 31,
     "metadata": {},
     "output_type": "execute_result"
    }
   ],
   "source": [
    "ogArray = [1,2,3,4,5,4,3,2]\n",
    "k=2\n",
    "subArrays = [ogArray[i:len(ogArray)-k+i+1] for i in range(0,k)]\n",
    "print(subArrays)\n",
    "# sumArrays = [0] * len(subArrays[0])\n",
    "np.max(np.sum(subArrays,axis=0))"
   ]
  },
  {
   "cell_type": "markdown",
   "metadata": {},
   "source": [
    "### 39) mini knapsack (hard coded)"
   ]
  },
  {
   "cell_type": "code",
   "execution_count": 32,
   "metadata": {},
   "outputs": [],
   "source": [
    "def solution(value1, weight1, value2, weight2, maxW):\n",
    "    if weight1 > maxW:\n",
    "        if weight2 > maxW:\n",
    "            return 0\n",
    "        else:\n",
    "            return value2\n",
    "    elif weight1 <= maxW:\n",
    "        if weight1 + weight2 <= maxW:\n",
    "            return value1 + value2\n",
    "        elif weight2 <= maxW and value2 > value1:\n",
    "            return value2\n",
    "        else:\n",
    "            return value1"
   ]
  },
  {
   "cell_type": "code",
   "execution_count": null,
   "metadata": {},
   "outputs": [],
   "source": [
    "# shorter soln\n",
    "def solution(v1, w1, v2, w2, W):\n",
    "    return max(int(w1<=W)*v1, int(w2<=W)*v2, int(w1+w2<=W)*(v1+v2))"
   ]
  },
  {
   "cell_type": "markdown",
   "metadata": {},
   "source": [
    "### 42) bishop and pawn"
   ]
  },
  {
   "cell_type": "code",
   "execution_count": 1,
   "metadata": {},
   "outputs": [],
   "source": [
    "import string\n",
    "chess_letters = string.ascii_lowercase[:8]\n",
    "\n",
    "def solution(bishop, pawn):\n",
    "    bishop_letter_index = chess_letters.index(bishop[0]) # bishops vertical position\n",
    "    \n",
    "    # define possible moves for bishop\n",
    "    bishop_moves = []\n",
    "    for i,l in enumerate(chess_letters):\n",
    "        letter_diff = bishop_letter_index - i\n",
    "        # move down\n",
    "        bishop_moves.append(l + str(int(bishop[1]) - letter_diff))\n",
    "        # move up\n",
    "        bishop_moves.append(l + str(int(bishop[1]) + letter_diff))\n",
    "        \n",
    "    # check if pawn in path of bishop\n",
    "    if pawn in bishop_moves: return True\n",
    "    return False\n"
   ]
  },
  {
   "cell_type": "markdown",
   "metadata": {},
   "source": [
    "### 43) beautiful alphabet string"
   ]
  },
  {
   "cell_type": "code",
   "execution_count": null,
   "metadata": {},
   "outputs": [],
   "source": [
    "from collections import Counter\n",
    "import string\n",
    "\n",
    "alphabet = string.ascii_lowercase\n",
    "\n",
    "def solution(inputString):\n",
    "    last_letter = sorted(inputString)[-1]\n",
    "    counts = Counter(inputString)\n",
    "    current_count = 50\n",
    "    letters_range = alphabet[:alphabet.index(last_letter)+1]\n",
    "    for letter in letters_range:\n",
    "        letter_count = counts[letter]\n",
    "        if letter_count <= current_count:\n",
    "            current_count = letter_count\n",
    "        else:\n",
    "            return False\n",
    "    return True\n"
   ]
  },
  {
   "cell_type": "markdown",
   "metadata": {},
   "source": [
    "### 45) build palindrome"
   ]
  },
  {
   "cell_type": "code",
   "execution_count": null,
   "metadata": {},
   "outputs": [],
   "source": [
    "# unnecessary repeated checking...\n",
    "def is_palindrome(st):\n",
    "    left = 0\n",
    "    right = len(st) -1\n",
    "    while left < right:\n",
    "        if st[left] != st[right]:\n",
    "            return False\n",
    "        else:\n",
    "            left+=1\n",
    "            right-=1\n",
    "    return True\n",
    "\n",
    "def solution(st):\n",
    "    for center in range(-len(st),0):\n",
    "        mirrored_subst = st[0:center][::-1]\n",
    "        potential_palindrome = st + mirrored_subst\n",
    "        if is_palindrome(potential_palindrome):\n",
    "            return potential_palindrome"
   ]
  },
  {
   "cell_type": "code",
   "execution_count": null,
   "metadata": {},
   "outputs": [],
   "source": [
    "# shorter version\n",
    "def solution(st):\n",
    "    for i in range(0,len(st)):\n",
    "        if(st[i:len(st)] == st[i:len(st)][::-1]):\n",
    "            return st[0:i] + st[i:len(st)] + st[0:i][::-1]\n",
    "            "
   ]
  },
  {
   "cell_type": "markdown",
   "metadata": {},
   "source": [
    "### 46) Election Winners"
   ]
  },
  {
   "cell_type": "code",
   "execution_count": 1,
   "metadata": {},
   "outputs": [],
   "source": [
    "from collections import Counter\n",
    "\n",
    "def solution(votes, k):\n",
    "    winners = 0\n",
    "    frontrunner = max(votes)\n",
    "    num_frontrunners = Counter(votes)[frontrunner]\n",
    "    frontrunner_index = votes.index(frontrunner)\n",
    "    # if 1 frontrunner, need to acct for k = 0 and existing frontrunner wins\n",
    "    if num_frontrunners==1:\n",
    "        for i in range(0,len(votes)):\n",
    "            if votes[i] + k > frontrunner or i == frontrunner_index:\n",
    "                winners += 1\n",
    "    else:\n",
    "        for i in range(0,len(votes)):\n",
    "            if votes[i] + k > frontrunner:\n",
    "                winners += 1\n",
    "    return winners\n"
   ]
  },
  {
   "cell_type": "markdown",
   "metadata": {},
   "source": [
    "### 50) Chess knight"
   ]
  },
  {
   "cell_type": "code",
   "execution_count": 2,
   "metadata": {},
   "outputs": [],
   "source": [
    "import string\n",
    "cols = string.ascii_lowercase[:8]\n",
    "\n",
    "def solution(cell):\n",
    "    # convert col to number\n",
    "    col_num = cols.index(cell[0])\n",
    "    row_num = int(cell[1])-1\n",
    "    moves = 0\n",
    "    # feasible \"horizontal\" moves\n",
    "    for h_move in [2,-2]:\n",
    "        for v_move in [1,-1]:\n",
    "            if col_num + h_move in range(0,8) and row_num + v_move in range(0,8):\n",
    "                moves+=1\n",
    "    # feasible \"vertical\" moves\n",
    "    for h_move in [1,-1]:\n",
    "        for v_move in [2,-2]:\n",
    "            if col_num + h_move in range(0,8) and row_num + v_move in range(0,8):\n",
    "                moves+=1\n",
    "    return moves"
   ]
  },
  {
   "cell_type": "markdown",
   "metadata": {},
   "source": [
    "### 53) validTime"
   ]
  },
  {
   "cell_type": "code",
   "execution_count": null,
   "metadata": {},
   "outputs": [],
   "source": [
    "def solution(time):\n",
    "    hours, mins = time.split(':')\n",
    "    if len(hours) != 2 or len(mins) != 2:\n",
    "        return False\n",
    "    try:\n",
    "        if int(hours) <=23 and int(mins) <= 59:\n",
    "            return True\n",
    "        else:\n",
    "            return False\n",
    "    except:\n",
    "        return False\n"
   ]
  },
  {
   "cell_type": "markdown",
   "metadata": {},
   "source": [
    "### 54) sum numbers in string"
   ]
  },
  {
   "cell_type": "code",
   "execution_count": null,
   "metadata": {},
   "outputs": [],
   "source": [
    "def solution(inputString):\n",
    "    subnumber = '0'\n",
    "    cum_sum = 0\n",
    "    for i,c in enumerate(inputString):\n",
    "        if c.isnumeric():\n",
    "            subnumber = subnumber + c\n",
    "        else:\n",
    "            cum_sum += int(subnumber)\n",
    "            subnumber = '0'\n",
    "    cum_sum += int(subnumber) # add any remaining subnumbers\n",
    "    return cum_sum"
   ]
  },
  {
   "cell_type": "markdown",
   "metadata": {},
   "source": [
    "### 55) different squares"
   ]
  },
  {
   "cell_type": "code",
   "execution_count": 5,
   "metadata": {},
   "outputs": [
    {
     "data": {
      "text/plain": [
       "True"
      ]
     },
     "execution_count": 5,
     "metadata": {},
     "output_type": "execute_result"
    }
   ],
   "source": [
    "[1,2] in [[1,2]] # true\n",
    "[[1,2],[1,2]] in [[[1,2],[1,2]], 3, [4,5]] # also true"
   ]
  },
  {
   "cell_type": "code",
   "execution_count": null,
   "metadata": {},
   "outputs": [],
   "source": [
    "def solution(matrix):\n",
    "    submat = None\n",
    "    unique_squares = []\n",
    "    # iterate rows and cols\n",
    "    for row in range(0,len(matrix)-1):\n",
    "        for col in range(0,len(matrix[0])-1):\n",
    "            submat = [c[col:col+2] for c in matrix[row:row+2]]\n",
    "            if submat not in unique_squares:\n",
    "                unique_squares.append(submat)\n",
    "    return len(unique_squares)\n"
   ]
  },
  {
   "cell_type": "markdown",
   "metadata": {},
   "source": [
    "### 57) digits product"
   ]
  },
  {
   "cell_type": "code",
   "execution_count": null,
   "metadata": {},
   "outputs": [],
   "source": [
    "def divide_by_single_digit(product):\n",
    "    # check if 9-2 divisible\n",
    "    # want to start with 9, because want largest number in smallest place\n",
    "    for i in range(min(9,product),1,-1):\n",
    "        if product % i == 0:\n",
    "            return (i,product//i)\n",
    "    # else, not divisible\n",
    "    return (0,product) \n",
    "\n",
    "def solution(product):\n",
    "    if product == 0: return 10\n",
    "    smallest = []\n",
    "    while len(str(product))>1:\n",
    "        i,remaining_product = divide_by_single_digit(product)\n",
    "        if i == 0 and len(str(product))>1:\n",
    "            return -1\n",
    "        else:\n",
    "            smallest.insert(0,i)\n",
    "            product = remaining_product\n",
    "    smallest.insert(0,product) # append last (largest) digit\n",
    "    return int(''.join([str(d) for d in smallest])) \n",
    "   "
   ]
  },
  {
   "cell_type": "markdown",
   "metadata": {},
   "source": [
    "### 57) file name"
   ]
  },
  {
   "cell_type": "code",
   "execution_count": 6,
   "metadata": {},
   "outputs": [],
   "source": [
    "def solution(names):\n",
    "    updated_names = []\n",
    "    for name in names:\n",
    "        # if first instance of name, append\n",
    "        if name not in updated_names:\n",
    "            updated_names.append(name)\n",
    "        # else, iterate until next free name found and append\n",
    "        else:\n",
    "            next_available_name = name\n",
    "            i = 1\n",
    "            while next_available_name in updated_names:\n",
    "                next_available_name = name + '(' + str(i) + ')'\n",
    "                i+=1\n",
    "            updated_names.append(next_available_name)\n",
    "    return updated_names\n"
   ]
  },
  {
   "cell_type": "markdown",
   "metadata": {},
   "source": [
    "### 59) spiral numbers"
   ]
  },
  {
   "cell_type": "code",
   "execution_count": 7,
   "metadata": {},
   "outputs": [],
   "source": [
    "# looong solution\n",
    "import numpy as np\n",
    "\n",
    "def solution(n):\n",
    "    # right, bottom, left, top bounds\n",
    "    bounds = [n-1,n-1,0,0]\n",
    "    direction = 'right'\n",
    "    spiral = np.ones([n,n])\n",
    "    # print(spiral)\n",
    "    r=0\n",
    "    c=0\n",
    "    for i in range(2,n**2+1):\n",
    "        # move, then change direction if necessary\n",
    "        if direction == 'right': \n",
    "            c+=1\n",
    "            if c == bounds[0]:\n",
    "                direction='down'\n",
    "                bounds[3] += 1\n",
    "        elif direction == 'down':\n",
    "            r+=1\n",
    "            if r == bounds[1]:\n",
    "                direction='left'\n",
    "                bounds[0] -= 1\n",
    "        elif direction =='left':\n",
    "            c-=1\n",
    "            if c == bounds[2]:\n",
    "                direction='up'\n",
    "                bounds[1] -= 1\n",
    "                \n",
    "        elif direction == 'up':\n",
    "            r-=1\n",
    "            if r == bounds[3]:\n",
    "                direction='right'\n",
    "                bounds[2] += 1\n",
    "        # add number after moving\n",
    "        spiral[r,c] = i\n",
    "        # print(i,spiral)\n",
    "    return spiral"
   ]
  },
  {
   "cell_type": "code",
   "execution_count": null,
   "metadata": {},
   "outputs": [],
   "source": [
    "# shorter version\n",
    "def solution(n):\n",
    "    m = [[0] * n for i in range(n)]\n",
    "    dx, dy = [0, 1, 0, -1], [1, 0, -1, 0]\n",
    "    x, y, c = 0, -1, 1\n",
    "    for i in range(n + n - 1):\n",
    "        for j in range((n + n - i) // 2):\n",
    "            x += dx[i % 4]\n",
    "            y += dy[i % 4]\n",
    "            m[x][y] = c\n",
    "            c += 1\n",
    "    return m"
   ]
  },
  {
   "cell_type": "markdown",
   "metadata": {},
   "source": [
    "### 60) sudoku checker"
   ]
  },
  {
   "cell_type": "code",
   "execution_count": null,
   "metadata": {},
   "outputs": [],
   "source": [
    "def solution(grid):\n",
    "    # check grids\n",
    "    for r in range (0,3):\n",
    "        for c in range (0,3):\n",
    "            subgrid = [cell for row in [row[c*3:c*3+3] for row in grid][r*3:r*3+3] for cell in row]\n",
    "            if sorted(subgrid) != list(range(1,10)):\n",
    "                return False\n",
    "    for i in range(0,9):\n",
    "        # check rows\n",
    "        if sorted(grid[i]) != list(range(1,10)):\n",
    "            return False\n",
    "        # check cols\n",
    "        if sorted([r[i] for r in grid]) != list(range(1,10)):\n",
    "            return False\n",
    "    return True"
   ]
  },
  {
   "cell_type": "markdown",
   "metadata": {},
   "source": [
    "# CORE"
   ]
  },
  {
   "cell_type": "markdown",
   "metadata": {},
   "source": [
    "### extra number"
   ]
  },
  {
   "cell_type": "code",
   "execution_count": 15,
   "metadata": {},
   "outputs": [
    {
     "name": "stdout",
     "output_type": "stream",
     "text": [
      "3\n",
      "0\n",
      "1\n"
     ]
    },
    {
     "data": {
      "text/plain": [
       "(6, 6, 1)"
      ]
     },
     "execution_count": 15,
     "metadata": {},
     "output_type": "execute_result"
    }
   ],
   "source": [
    "# bitwise XOR operator\n",
    "# can be used to id unique number:\n",
    "print(3^2^2) # same as 3^0\n",
    "print(2^2) # returns false, 0 \n",
    "print(2^3)# only true if args are diff, then returns diff of numbers?\n",
    "4^2,2^4,2^3 # returns 1 if bit digits are diff, 0 if same..."
   ]
  },
  {
   "cell_type": "markdown",
   "metadata": {},
   "source": [
    "### 27) is sum consecutive"
   ]
  },
  {
   "cell_type": "code",
   "execution_count": null,
   "metadata": {},
   "outputs": [],
   "source": [
    "def solution(n):\n",
    "    if n == 1: return 0\n",
    "    \n",
    "    num_soln = 0\n",
    "    possible_int_array = range(1,int(n//2)+2)\n",
    "    \n",
    "    for i in possible_int_array:\n",
    "        print(i)\n",
    "        running_sum = 0\n",
    "        next_int = i\n",
    "        while running_sum < n:\n",
    "            running_sum += next_int\n",
    "            next_int += 1\n",
    "            if running_sum == n:\n",
    "                num_soln += 1\n",
    "    return num_soln"
   ]
  },
  {
   "cell_type": "markdown",
   "metadata": {},
   "source": [
    "### 28) Lineup"
   ]
  },
  {
   "cell_type": "code",
   "execution_count": 1,
   "metadata": {},
   "outputs": [],
   "source": [
    "def solution(commands):\n",
    "    facingSameArray = [True]\n",
    "    for i in range(0,len(commands)):\n",
    "        # turning around will maintain same-direction-truthy as previous\n",
    "        if commands[i] == 'A':\n",
    "            facingSameArray.append(facingSameArray[i])\n",
    "        # turning L/R will switch same-direction-truthy\n",
    "        else:\n",
    "            facingSameArray.append(not facingSameArray[i])\n",
    "    # print(facingSameArray)\n",
    "    return sum(facingSameArray) - 1\n",
    "            "
   ]
  },
  {
   "cell_type": "markdown",
   "metadata": {},
   "source": [
    "### 45) square seq"
   ]
  },
  {
   "cell_type": "code",
   "execution_count": null,
   "metadata": {},
   "outputs": [],
   "source": [
    "def solution(a0):\n",
    "    seq = [a0] # add a0 at end\n",
    "    a_next = sum([int(d)**2 for d in str(a0)])\n",
    "    while a_next not in seq:\n",
    "        seq.append(a_next)\n",
    "        a_next = sum([int(d)**2 for d in str(a_next)])\n",
    "        # print('seq and next',seq,sum([int(d)**2 for d in str(a_next)]))\n",
    "        \n",
    "    return len(seq) + 1 # + 1 for repeated number\n"
   ]
  },
  {
   "cell_type": "markdown",
   "metadata": {},
   "source": [
    "### 46) printing page numbers"
   ]
  },
  {
   "cell_type": "code",
   "execution_count": null,
   "metadata": {},
   "outputs": [],
   "source": [
    "def solution(current, numberOfDigits):\n",
    "    currentPage = str(current)\n",
    "    nextPage = str(int(currentPage)+1)\n",
    "    remainingDigits = numberOfDigits - len(currentPage)\n",
    "\n",
    "    while remainingDigits >= len(nextPage):\n",
    "        currentPage = str(int(currentPage) + 1)\n",
    "        remainingDigits -= len(currentPage)\n",
    "        nextPage = str(int(currentPage) + 1)\n",
    "        # print('printed:',currentPage,'left:', remainingDigits, 'next:', nextPage)\n",
    "    return int(currentPage)"
   ]
  },
  {
   "cell_type": "markdown",
   "metadata": {},
   "source": [
    "### 47) comfortable numbers"
   ]
  },
  {
   "cell_type": "code",
   "execution_count": 5,
   "metadata": {},
   "outputs": [
    {
     "data": {
      "text/plain": [
       "(1, 2)"
      ]
     },
     "execution_count": 5,
     "metadata": {},
     "output_type": "execute_result"
    }
   ],
   "source": [
    "from collections import Counter\n",
    "\n",
    "def solution(l, r):\n",
    "    comfortable_list = []\n",
    "    for i in range(l,r+1):\n",
    "        digit_sum = sum([int(d) for d in str(i)])\n",
    "        comfortable = [tuple(sorted((i,c))) for c in list(range(i-digit_sum,i+digit_sum+1)) if c != i and c in range(l,r+1)]\n",
    "        comfortable_list = comfortable_list + comfortable\n",
    "    counts = Counter(comfortable_list)\n",
    "    mutual_comfortable = len([p for p,count in counts.items() if count == 2])\n",
    "    return mutual_comfortable"
   ]
  },
  {
   "cell_type": "code",
   "execution_count": 18,
   "metadata": {},
   "outputs": [
    {
     "data": {
      "text/plain": [
       "dict_items([(1, 1), (2, 2), (3, 1), (4, 3)])"
      ]
     },
     "execution_count": 18,
     "metadata": {},
     "output_type": "execute_result"
    }
   ],
   "source": [
    "c_list = [1,2,2,3,4,4,4]\n",
    "c = Counter(c_list)\n",
    "c.items()"
   ]
  },
  {
   "cell_type": "markdown",
   "metadata": {},
   "source": [
    "### 48) weak numbers"
   ]
  },
  {
   "cell_type": "code",
   "execution_count": 11,
   "metadata": {},
   "outputs": [
    {
     "data": {
      "text/plain": [
       "1"
      ]
     },
     "execution_count": 11,
     "metadata": {},
     "output_type": "execute_result"
    }
   ],
   "source": [
    "# can get count from Coutner object like w dict\n",
    "c[3]"
   ]
  },
  {
   "cell_type": "code",
   "execution_count": 19,
   "metadata": {},
   "outputs": [
    {
     "data": {
      "text/plain": [
       "2"
      ]
     },
     "execution_count": 19,
     "metadata": {},
     "output_type": "execute_result"
    }
   ],
   "source": [
    "c_list.count(2)"
   ]
  },
  {
   "cell_type": "code",
   "execution_count": null,
   "metadata": {},
   "outputs": [],
   "source": [
    "from collections import Counter\n",
    "\n",
    "def get_divisors(n):\n",
    "    divisors = set()\n",
    "    \n",
    "    # Loop from 1 to the square root of n\n",
    "    for i in range(1, int(n**0.5) + 1):\n",
    "        if n % i == 0:\n",
    "            divisors.add(i)\n",
    "            divisors.add(n // i)  # Add both divisors\n",
    "\n",
    "    return sorted(divisors)\n",
    "\n",
    "def solution(n):\n",
    "    divisors = []\n",
    "    weaknesses = []\n",
    "    max_weakness = 0\n",
    "    for i in range(1,n+1):\n",
    "        # get divisor\n",
    "        divisor_i = len(get_divisors(i))\n",
    "        # get weakness\n",
    "        weakness_i = len([d for d in divisors if d > divisor_i])\n",
    "        # append to list\n",
    "        divisors.append(divisor_i)\n",
    "        weaknesses.append(weakness_i)\n",
    "        if weakness_i > max_weakness:\n",
    "            max_weakness = weakness_i\n",
    "    counts = Counter(weaknesses)\n",
    "    return [max_weakness,counts[max_weakness]]"
   ]
  },
  {
   "cell_type": "code",
   "execution_count": null,
   "metadata": {},
   "outputs": [],
   "source": [
    "# faster\n",
    "def solution(n):\n",
    "    d = [sum(i%j==0 for j in range(1,i+1)) for i in range(1,n+1)]\n",
    "    w = [sum(j>m for j in d[:i]) for i,m in enumerate(d)]\n",
    "    return [max(w),w.count(max(w))]"
   ]
  },
  {
   "cell_type": "code",
   "execution_count": 17,
   "metadata": {},
   "outputs": [
    {
     "name": "stdout",
     "output_type": "stream",
     "text": [
      "divisors [1, 2, 2, 3, 2, 4, 2, 4]\n",
      "is weak [[], [False], [False, False], [False, False, False], [False, False, False, True], [False, False, False, False, False], [False, False, False, True, False, True], [False, False, False, False, False, False, False]]\n"
     ]
    },
    {
     "data": {
      "text/plain": [
       "[0, 0, 0, 0, 1, 0, 2, 0]"
      ]
     },
     "execution_count": 17,
     "metadata": {},
     "output_type": "execute_result"
    }
   ],
   "source": [
    "d = [sum(i%j==0 for j in range(1,i+1)) for i in range(1,9)]\n",
    "print('divisors',d)\n",
    "\n",
    "print('is weak',[[j>m for j in d[:i]] for i,m in enumerate(d)])\n",
    "\n",
    "[sum(j>m for j in d[:i]) for i,m in enumerate(d)]\n"
   ]
  },
  {
   "cell_type": "markdown",
   "metadata": {},
   "source": [
    "### prefix sum)"
   ]
  },
  {
   "cell_type": "code",
   "execution_count": null,
   "metadata": {},
   "outputs": [],
   "source": [
    "def solution(a):\n",
    "    third_sum = sum(a)//3\n",
    "    \n",
    "    # prefix sum method\n",
    "    prefix_sum = 0\n",
    "    count_first_split = 0\n",
    "    solutions = 0\n",
    "    \n",
    "    # Iterate through the array but exclude the last element from being considered for left and middle.\n",
    "    for i in range(len(a) - 1):\n",
    "        prefix_sum += a[i]\n",
    "        \n",
    "        # If we have seen two-thirds of the sum, the current point can be a valid right boundary\n",
    "        if prefix_sum == 2 * third_sum and i >= 1:\n",
    "            solutions += count_first_split\n",
    "        \n",
    "        # If the prefix sum equals the third sum, it can be a valid first split\n",
    "        if prefix_sum == third_sum:\n",
    "            count_first_split += 1\n",
    "    \n",
    "    return solutions"
   ]
  },
  {
   "cell_type": "markdown",
   "metadata": {},
   "source": [
    "### )"
   ]
  },
  {
   "cell_type": "code",
   "execution_count": null,
   "metadata": {},
   "outputs": [],
   "source": []
  },
  {
   "cell_type": "markdown",
   "metadata": {},
   "source": [
    "### )"
   ]
  },
  {
   "cell_type": "code",
   "execution_count": null,
   "metadata": {},
   "outputs": [],
   "source": []
  },
  {
   "cell_type": "markdown",
   "metadata": {},
   "source": [
    "### )"
   ]
  },
  {
   "cell_type": "code",
   "execution_count": null,
   "metadata": {},
   "outputs": [],
   "source": []
  },
  {
   "cell_type": "markdown",
   "metadata": {},
   "source": [
    "### )"
   ]
  },
  {
   "cell_type": "code",
   "execution_count": null,
   "metadata": {},
   "outputs": [],
   "source": []
  },
  {
   "cell_type": "markdown",
   "metadata": {},
   "source": [
    "### )"
   ]
  },
  {
   "cell_type": "code",
   "execution_count": null,
   "metadata": {},
   "outputs": [],
   "source": []
  },
  {
   "cell_type": "markdown",
   "metadata": {},
   "source": [
    "### )"
   ]
  },
  {
   "cell_type": "code",
   "execution_count": null,
   "metadata": {},
   "outputs": [],
   "source": []
  },
  {
   "cell_type": "markdown",
   "metadata": {},
   "source": [
    "### )"
   ]
  },
  {
   "cell_type": "code",
   "execution_count": null,
   "metadata": {},
   "outputs": [],
   "source": []
  },
  {
   "cell_type": "markdown",
   "metadata": {},
   "source": [
    "### )"
   ]
  },
  {
   "cell_type": "code",
   "execution_count": null,
   "metadata": {},
   "outputs": [],
   "source": []
  },
  {
   "cell_type": "markdown",
   "metadata": {},
   "source": [
    "### )"
   ]
  },
  {
   "cell_type": "code",
   "execution_count": null,
   "metadata": {},
   "outputs": [],
   "source": []
  },
  {
   "cell_type": "markdown",
   "metadata": {},
   "source": [
    "### )"
   ]
  },
  {
   "cell_type": "code",
   "execution_count": null,
   "metadata": {},
   "outputs": [],
   "source": []
  },
  {
   "cell_type": "markdown",
   "metadata": {},
   "source": [
    "### )"
   ]
  },
  {
   "cell_type": "code",
   "execution_count": null,
   "metadata": {},
   "outputs": [],
   "source": []
  },
  {
   "cell_type": "markdown",
   "metadata": {},
   "source": [
    "### )"
   ]
  },
  {
   "cell_type": "code",
   "execution_count": null,
   "metadata": {},
   "outputs": [],
   "source": []
  },
  {
   "cell_type": "markdown",
   "metadata": {},
   "source": [
    "### )"
   ]
  },
  {
   "cell_type": "code",
   "execution_count": null,
   "metadata": {},
   "outputs": [],
   "source": []
  },
  {
   "cell_type": "markdown",
   "metadata": {},
   "source": [
    "### )"
   ]
  },
  {
   "cell_type": "code",
   "execution_count": null,
   "metadata": {},
   "outputs": [],
   "source": []
  },
  {
   "cell_type": "markdown",
   "metadata": {},
   "source": [
    "### )"
   ]
  },
  {
   "cell_type": "code",
   "execution_count": null,
   "metadata": {},
   "outputs": [],
   "source": []
  }
 ],
 "metadata": {
  "kernelspec": {
   "display_name": "Python 3",
   "language": "python",
   "name": "python3"
  },
  "language_info": {
   "codemirror_mode": {
    "name": "ipython",
    "version": 3
   },
   "file_extension": ".py",
   "mimetype": "text/x-python",
   "name": "python",
   "nbconvert_exporter": "python",
   "pygments_lexer": "ipython3",
   "version": "3.10.11"
  }
 },
 "nbformat": 4,
 "nbformat_minor": 2
}
