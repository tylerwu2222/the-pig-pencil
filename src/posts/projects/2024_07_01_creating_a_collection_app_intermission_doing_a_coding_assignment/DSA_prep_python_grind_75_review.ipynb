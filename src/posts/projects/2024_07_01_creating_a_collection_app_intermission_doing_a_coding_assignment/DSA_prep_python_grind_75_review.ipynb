{
 "cells": [
  {
   "cell_type": "code",
   "execution_count": 13,
   "metadata": {},
   "outputs": [],
   "source": [
    "import pandas as pd\n",
    "import numpy as np\n",
    "# from typing import List"
   ]
  },
  {
   "cell_type": "code",
   "execution_count": 2,
   "metadata": {},
   "outputs": [],
   "source": [
    "ex_list = [1,2,3,4,5]"
   ]
  },
  {
   "cell_type": "code",
   "execution_count": 7,
   "metadata": {},
   "outputs": [
    {
     "data": {
      "text/plain": [
       "[2, 3, 4, 5]"
      ]
     },
     "execution_count": 7,
     "metadata": {},
     "output_type": "execute_result"
    }
   ],
   "source": [
    "ex_list[:1] # not inclusive of end\n",
    "ex_list[1:] # inclusive of start"
   ]
  },
  {
   "cell_type": "markdown",
   "metadata": {},
   "source": [
    "# classes"
   ]
  },
  {
   "cell_type": "code",
   "execution_count": 21,
   "metadata": {},
   "outputs": [],
   "source": [
    "class Animal:\n",
    "    def __init__(self, name, age, weight):\n",
    "        self.name = name\n",
    "        self.age = age\n",
    "        self.weight = weight\n",
    "\n",
    "    # getter\n",
    "    def get_age(self):\n",
    "        return self.age\n",
    "    \n",
    "    # setter\n",
    "    def grow_age(self, years_growth):\n",
    "        self.age = self.age + years_growth\n",
    "\n",
    "    # called if ever, print(AnimalObject)\n",
    "    def __str__(self):\n",
    "        return f\"{self.name}({self.age})\""
   ]
  },
  {
   "cell_type": "code",
   "execution_count": 22,
   "metadata": {},
   "outputs": [
    {
     "name": "stdout",
     "output_type": "stream",
     "text": [
      "10\n",
      "15\n",
      "duck(15)\n"
     ]
    }
   ],
   "source": [
    "duck = Animal('duck',10,30)\n",
    "print(duck.get_age())\n",
    "duck.grow_age(5)\n",
    "print(duck.get_age())\n",
    "print(duck)"
   ]
  },
  {
   "cell_type": "code",
   "execution_count": null,
   "metadata": {},
   "outputs": [],
   "source": [
    "# CS practice\n",
    "def solution(numbers):\n",
    "    is_triple_list = []\n",
    "    for i in range(2,len(numbers)):\n",
    "        triple = [numbers[i-2],numbers[i-1],numbers[i]]\n",
    "        if (triple[1] > triple[0] and triple[1] > triple[2]) or (triple[1] < triple[0] and triple[1] < triple[2]):\n",
    "            is_triple_list.append(1)\n",
    "        else:\n",
    "            is_triple_list.append(0)\n",
    "    return is_triple_list"
   ]
  },
  {
   "cell_type": "markdown",
   "metadata": {},
   "source": [
    "# GRIND 75"
   ]
  },
  {
   "cell_type": "markdown",
   "metadata": {},
   "source": [
    "## 1. two sum (E)"
   ]
  },
  {
   "cell_type": "code",
   "execution_count": 16,
   "metadata": {},
   "outputs": [],
   "source": [
    "# SOLN O(n^2)\n",
    "def twoSumNaive(nums: list[int], target: int) -> list[int]:\n",
    "    for i in range(0,len(nums)):\n",
    "        # only compare i to later numbers (not including self\n",
    "        for j in range(i+1, len(nums)):\n",
    "            # only smaller addends relevant --> not True, negatives exist\n",
    "            # if nums[i] <= target and nums[j] <= target:\n",
    "            if nums[i] + nums[j] == target:\n",
    "                return [i,j]\n",
    "# SOLN: char index map O(n)\n",
    "def twoSumHashMap(nums: list[int], target: int) -> list[int]:\n",
    "        diff_dict = {}\n",
    "        for i in range(0, len(nums)):\n",
    "            if i > 0:\n",
    "                # print(nums[i], diff_dict,diff_dict.get(nums[i]))\n",
    "                # if difference is in diff_dict, return soln\n",
    "                if diff_dict.get(nums[i]) is not None:\n",
    "                    # print(i, diff_dict.get(nums[i]))\n",
    "                    # return current index and index of diff that adds to soln\n",
    "                    return [diff_dict.get(nums[i]), i]\n",
    "            # get diff of target and curr num\n",
    "            diff = target - nums[i]\n",
    "            # store differences in dict\n",
    "            diff_dict[diff] = i"
   ]
  },
  {
   "cell_type": "code",
   "execution_count": 17,
   "metadata": {},
   "outputs": [
    {
     "data": {
      "text/plain": [
       "[0, 1]"
      ]
     },
     "execution_count": 17,
     "metadata": {},
     "output_type": "execute_result"
    }
   ],
   "source": [
    "twoSumHashMap([1,2,3,4],3) # yep"
   ]
  },
  {
   "cell_type": "markdown",
   "metadata": {},
   "source": [
    "## 2. add 2 nums (linked list)"
   ]
  },
  {
   "cell_type": "code",
   "execution_count": 10,
   "metadata": {},
   "outputs": [
    {
     "name": "stdout",
     "output_type": "stream",
     "text": [
      "7\n"
     ]
    },
    {
     "data": {
      "text/plain": [
       "20"
      ]
     },
     "execution_count": 10,
     "metadata": {},
     "output_type": "execute_result"
    }
   ],
   "source": [
    "rem = 27 % 10 # remainder for digit\n",
    "print(rem)\n",
    "27 - rem # too carry"
   ]
  },
  {
   "cell_type": "code",
   "execution_count": 2,
   "metadata": {},
   "outputs": [
    {
     "data": {
      "text/plain": [
       "100"
      ]
     },
     "execution_count": 2,
     "metadata": {},
     "output_type": "execute_result"
    }
   ],
   "source": [
    "# unoptimal soln\n",
    "def addTwoNumbers(self, l1: Optional[ListNode], l2: Optional[ListNode]) -> Optional[ListNode]:\n",
    "        sum1 = 0\n",
    "        sum2 = 0\n",
    "\n",
    "        # add from ones to nth digit\n",
    "        digit1 = l1\n",
    "        i=0\n",
    "        while digit1 is not None:\n",
    "            # print('digit1',10i * digit1.val, digit1.next)\n",
    "            sum1 += 10**i * digit1.val\n",
    "            digit1 = digit1.next # inc\n",
    "            i += 1\n",
    "        # print('sum1',sum1)\n",
    "\n",
    "        digit2 = l2\n",
    "        j = 0\n",
    "        while digit2 is not None:\n",
    "            sum2 += 10**j * digit2.val\n",
    "            digit2 = digit2.next\n",
    "            j += 1\n",
    "        \n",
    "        total_sum = sum1 + sum2\n",
    "        # print('total sum',total_sum)\n",
    "\n",
    "        # convert sum to list\n",
    "        sum_as_list = list(str(total_sum))\n",
    "\n",
    "        # instantiate ll from string list\n",
    "        prev_node = None\n",
    "        for d in sum_as_list:\n",
    "            node = ListNode()\n",
    "            node.val = d\n",
    "            node.next = prev_node\n",
    "            prev_node = node\n",
    "\n",
    "        # print('node',node)\n",
    "        return node\n",
    "\n",
    "# optimal solution w/o casting and reversing (modulo)\n",
    "def addTwoNumbers(self, l1: Optional[ListNode], l2: Optional[ListNode]) -> Optional[ListNode]:\n",
    "    head = ListNode() # empty head\n",
    "    current = head\n",
    "    carry = 0\n",
    "\n",
    "    while l1 is not None or l2 is not None:\n",
    "        # calculate total & carry for place\n",
    "        total = 0\n",
    "        if l1 is not None:\n",
    "            total += l1.val\n",
    "            # print('l1',l1.val)\n",
    "            l1 = l1.next\n",
    "        # l2\n",
    "        if l2 is not None:\n",
    "            total += l2.val\n",
    "            # print('l2',l2.val)\n",
    "            l2 = l2.next\n",
    "        total += carry # add previous carry if any\n",
    "        carry = (total) // 10 # calculate new carry\n",
    "\n",
    "        # allocate next node w value and iterate\n",
    "        current.next = ListNode(total % 10) \n",
    "        current = current.next\n",
    "\n",
    "    # if after last node, still remaining carry, append additional node of val carry\n",
    "    if carry > 0:\n",
    "        current.next = ListNode(carry)\n",
    "\n",
    "    return head.next\n"
   ]
  },
  {
   "cell_type": "markdown",
   "metadata": {},
   "source": [
    "## 3. longest non-repeating substring (M)"
   ]
  },
  {
   "cell_type": "code",
   "execution_count": 19,
   "metadata": {},
   "outputs": [],
   "source": [
    "# SOLN: my janky sliding window (with slicing and .index) O(kn), but k was insignificant?\n",
    "def lengthOfLongestSubstringJank(s: str) -> int:\n",
    "    curr_longest_substr = \"\"\n",
    "    curr_longest_len = 0\n",
    "    for char in s:\n",
    "        # for i in range(0, len(s)):\n",
    "        # if char alr in substr\n",
    "        if char in curr_longest_substr:\n",
    "            # DONT reset to current char --> fails on dvdf (soln vdf)\n",
    "            # remove from start to first instance of repeated char\n",
    "            curr_longest_substr = curr_longest_substr[\n",
    "                curr_longest_substr.index(char)+1:\n",
    "            ]\n",
    "            # print('reset cls', curr_longest_substr)\n",
    "        # if characters not repeated\n",
    "        if char not in curr_longest_substr:\n",
    "            # append as usual to longest substr\n",
    "            curr_longest_substr = curr_longest_substr + char\n",
    "            if len(curr_longest_substr) > curr_longest_len:\n",
    "                curr_longest_len = len(curr_longest_substr)\n",
    "        # print(char, curr_longest_substr)\n",
    "\n",
    "    return curr_longest_len\n",
    "\n",
    "# SOLN: Sliding window w/o slicing O(n)\n",
    "def lengthOfLongestSubstring(s: str) -> int:\n",
    "        char_index_map = {}\n",
    "        left = 0\n",
    "        max_length = 0\n",
    "\n",
    "        for right in range(len(s)):\n",
    "            # if right char in s repeats and index of repeating char >= left index\n",
    "            if s[right] in char_index_map and char_index_map[s[right]] >= left:\n",
    "                # set left to repeated index +1\n",
    "                left = char_index_map[s[right]] + 1\n",
    "            # set index for char to rightmost (most recent) instance\n",
    "            char_index_map[s[right]] = right\n",
    "            # update max length if curr window length is greater\n",
    "            max_length = max(max_length, right - left + 1)\n",
    "\n",
    "        return max_length"
   ]
  },
  {
   "cell_type": "code",
   "execution_count": 21,
   "metadata": {},
   "outputs": [
    {
     "data": {
      "text/plain": [
       "5"
      ]
     },
     "execution_count": 21,
     "metadata": {},
     "output_type": "execute_result"
    }
   ],
   "source": [
    "lengthOfLongestSubstringJank('tytytyler')"
   ]
  },
  {
   "cell_type": "markdown",
   "metadata": {},
   "source": [
    "## 4. median of 2 sorted arrays (H)"
   ]
  },
  {
   "cell_type": "markdown",
   "metadata": {},
   "source": [
    "## 5. longest palindrom substring (M)"
   ]
  },
  {
   "cell_type": "code",
   "execution_count": null,
   "metadata": {},
   "outputs": [],
   "source": [
    "def longestPalindrome(self, s: str) -> str:\n",
    "    max_lps = '' # init as one char\n",
    "    max_len = 0\n",
    "\n",
    "    for i in range(0, len(s)):\n",
    "        l = i\n",
    "        r = i\n",
    "\n",
    "        # check for odd length palindrome\n",
    "        while l >= 0 and r < len(s) and s[l] == s[r]:\n",
    "            # check if greater than max_len\n",
    "            if (r - l + 1) > max_len:\n",
    "                max_lps = s[l:r+1]\n",
    "                max_len = r-l+1\n",
    "            # expand window\n",
    "            l -= 1\n",
    "            r += 1\n",
    "            \n",
    "        # check for even length palindrome\n",
    "        l = i\n",
    "        r = i+1 # since checking L -> R, only need to check r incremented case\n",
    "        while l >= 0 and r < len(s) and s[l] == s[r]:\n",
    "            # check if greater than max_len\n",
    "            if (r - l + 1) > max_len:\n",
    "                max_lps = s[l:r+1]\n",
    "                max_len = r-l+1\n",
    "            # expand window\n",
    "            l -= 1\n",
    "            r += 1\n",
    "    return max_lps"
   ]
  },
  {
   "cell_type": "markdown",
   "metadata": {},
   "source": [
    "## 9. palindrome number (E)"
   ]
  },
  {
   "cell_type": "code",
   "execution_count": null,
   "metadata": {},
   "outputs": [],
   "source": [
    "# best soln: two pointer approach O(n)\n",
    "def isPalindrome(self, x: int) -> bool:\n",
    "    x = str(x)\n",
    "    l = 0\n",
    "    r = len(x) - 1\n",
    "    isP = True\n",
    "    while l < r:\n",
    "        if x[l] == x[r]:\n",
    "            l = l+1\n",
    "            r = r -1\n",
    "        else:\n",
    "            isP = False\n",
    "            break\n",
    "    return isP\n",
    "\n",
    "# naive soln. O(n), but somehow better??\n",
    "def isPalindrome(x: int) -> bool:\n",
    "    # return true if x is a palindrome\n",
    "\n",
    "    str_x = str(x)\n",
    "    n = len(str_x)\n",
    "    # print(str_x, n)\n",
    "    # even len\n",
    "    if n % 2 == 0:\n",
    "        # print('n/2',n/2)\n",
    "        first_half = str_x[: n//2]\n",
    "        second_half = str_x[n//2 :]\n",
    "    # odd len\n",
    "    else:\n",
    "        first_half = str_x[: n// 2]\n",
    "        second_half = str_x[n // 2 + 1 :]\n",
    "    second_half_reversed = second_half[::-1]\n",
    "\n",
    "    return first_half == second_half_reversed\n",
    "\n",
    "# recursive solution, actually worse O(n)? actually makes sense, recursion is\n",
    "def isPalindrome(self, x: int) -> bool:\n",
    "    str_x = str(x)\n",
    "\n",
    "    def stringIsPalindrome(s: str) -> bool:\n",
    "        if len(s) <= 1:\n",
    "            print('less than 1', s)\n",
    "            return True  # for 1\n",
    "        if s[0] == s[-1]:\n",
    "            s = s[1:-1]  # exclude first and last\n",
    "            print('recursing', s)\n",
    "            if s == '':\n",
    "                return True\n",
    "            else:\n",
    "                return stringIsPalindrome(s)  # keep recursing\n",
    "\n",
    "        return False\n",
    "    \n",
    "    return stringIsPalindrome(str_x)\n"
   ]
  },
  {
   "cell_type": "markdown",
   "metadata": {},
   "source": [
    "## 13. roman numeral to int (E)"
   ]
  },
  {
   "cell_type": "code",
   "execution_count": 25,
   "metadata": {},
   "outputs": [
    {
     "name": "stdout",
     "output_type": "stream",
     "text": [
      "-1\n",
      "None\n"
     ]
    }
   ],
   "source": [
    "def romanToInt(self, s: str) -> int:\n",
    "    symbols_dict = {\n",
    "        'I':1,\n",
    "        'V':5,\n",
    "        'X':10,\n",
    "        'L':50,\n",
    "        'C':100,\n",
    "        'D':500,\n",
    "        'M':1000,\n",
    "    }\n",
    "    # subtract\n",
    "    special_case_dict = {\n",
    "        'I':{\n",
    "            'V':-1,\n",
    "            'X':-1\n",
    "            },\n",
    "        'X':{\n",
    "            'L':-10,\n",
    "            'C':-10\n",
    "            },\n",
    "        'C':{\n",
    "            'D':-100,\n",
    "            'M':-100\n",
    "            },\n",
    "    }\n",
    "\n",
    "    increment_sum = 0\n",
    "\n",
    "    # read string left to right\n",
    "    for i in range(0,len(s)):\n",
    "        # get increment from dict\n",
    "        increment = symbols_dict.get(s[i])\n",
    "        # for special cases override: I, X, C become -1*10^k\n",
    "        if i < len(s)-1:\n",
    "            if s[i] in special_case_dict.keys():\n",
    "                if s[i+1] in special_case_dict.get(s[i]).keys():\n",
    "                    increment = special_case_dict.get(s[i]).get(s[i+1])\n",
    "        increment_sum += increment\n",
    "    return increment_sum"
   ]
  },
  {
   "cell_type": "markdown",
   "metadata": {},
   "source": [
    "## 14. Longest common prefix"
   ]
  },
  {
   "cell_type": "code",
   "execution_count": null,
   "metadata": {},
   "outputs": [],
   "source": [
    "def longestCommonPrefix(strs: List[str]) -> str:\n",
    "        longest_pre = ''\n",
    "        # edge case only one string in list\n",
    "        if len(strs) == 1:\n",
    "            return strs[0]\n",
    "        # otherwise, compare\n",
    "        elif len(strs) > 1:\n",
    "            min_length = 201\n",
    "            for s in strs:\n",
    "                min_length = min(min_length,len(s)) \n",
    "\n",
    "            all_same = True\n",
    "            # while all_same:\n",
    "            for i in range(0,min_length):\n",
    "                curr_letter = strs[0][i]\n",
    "                for si in range(1,len(strs)):\n",
    "                    if strs[si][i] != curr_letter:\n",
    "                        all_same = False\n",
    "                        break\n",
    "                if not all_same:\n",
    "                    break\n",
    "                else:\n",
    "                    longest_pre = longest_pre + strs[si][i]\n",
    "        # also returns '' for empty list\n",
    "        return longest_pre"
   ]
  },
  {
   "cell_type": "markdown",
   "metadata": {},
   "source": [
    "## 167. Two Sum II"
   ]
  },
  {
   "cell_type": "code",
   "execution_count": null,
   "metadata": {},
   "outputs": [],
   "source": [
    "# O(n) solution\n",
    "def twoSum(self, numbers: List[int], target: int) -> List[int]:\n",
    "    hash_map = {}\n",
    "    for i in range(0, len(numbers)):\n",
    "        # print('i',i)\n",
    "        # only check hash if at least one item added\n",
    "        if i > 0:\n",
    "            if hash_map.get(numbers[i]) is not None:\n",
    "                # print('hash map got', hash_map, 'i',i)\n",
    "                return [\n",
    "                    hash_map.get(numbers[i]) + 1,\n",
    "                    i + 1\n",
    "                ]  \n",
    "        diff = target - numbers[i]\n",
    "        hash_map[diff] = i\n",
    "    \n",
    "# O(n) solution, 2 pointers\n",
    "def twoSumTwoP(self, numbers: List[int], target: int) -> List[int]:\n",
    "        left = 0\n",
    "        right = len(numbers)- 1\n",
    "        while left < right:\n",
    "            lr_sum = numbers[left] + numbers[right]\n",
    "            if lr_sum == target:\n",
    "                return [left+1,right+1]\n",
    "            # if sum too big, decrease upper\n",
    "            elif lr_sum > target:\n",
    "                right -= 1\n",
    "            # if sum too small, increase lower\n",
    "            else:\n",
    "                left += 1 "
   ]
  },
  {
   "cell_type": "markdown",
   "metadata": {},
   "source": [
    "## 15. 3 sum"
   ]
  },
  {
   "cell_type": "code",
   "execution_count": 26,
   "metadata": {},
   "outputs": [],
   "source": [
    "# my jank ass solution (using unique two-sum)\n",
    "# ... too long\n",
    "\n",
    "# elegant solution, with 2 pointers (sim to 11)\n",
    "def threeSum(self, nums: List[int]) -> List[List[int]]:\n",
    "    # 1. sort numbers\n",
    "    nums.sort()\n",
    "    n = len(nums)\n",
    "\n",
    "    # loop through using 2 pointer method storing unique solutions\n",
    "    solutions = []\n",
    "    for i, a in enumerate(nums):\n",
    "        # print(\"i\", i)\n",
    "\n",
    "        # check for duplicates (if nums[i] = to prev, skip)\n",
    "        if i > 0 and nums[i] == nums[i - 1]:\n",
    "            continue\n",
    "\n",
    "        left = i + 1\n",
    "        right = n - 1\n",
    "        while left < right:\n",
    "            triplet = a + nums[left] + nums[right]\n",
    "            # print(\"l,r,a\", left, right, a, triplet)\n",
    "            if triplet < 0:\n",
    "                left += 1\n",
    "            elif triplet > 0:\n",
    "                right -= 1\n",
    "            else:\n",
    "                # print(\"soln indices\", i, left, right)\n",
    "                solutions.append([a, nums[left], nums[right]])\n",
    "                left += 1\n",
    "                # if left is same as prev... keep incrementing\n",
    "                # till different, or = right\n",
    "                while nums[left] == nums[left - 1] and left < right:\n",
    "                    left += 1\n",
    "    return solutions"
   ]
  },
  {
   "cell_type": "markdown",
   "metadata": {},
   "source": [
    "## 11. container most water (M)"
   ]
  },
  {
   "cell_type": "code",
   "execution_count": null,
   "metadata": {},
   "outputs": [],
   "source": [
    "# using hints from\n",
    "def maxArea(height: list[int]) -> int:\n",
    "        # store max area, current width, and\n",
    "        max_area = 0\n",
    "        left = 0\n",
    "        right = len(height) - 1\n",
    "        while left != right:\n",
    "            # print('l',left,'r',right, 'width', right-left)\n",
    "            area = (right - left) * min(height[left], height[right])\n",
    "            max_area = max(area, max_area)\n",
    "            if height[left] < height[right]:\n",
    "                left += 1\n",
    "            else:\n",
    "                right -= 1\n",
    "        return max_area"
   ]
  },
  {
   "cell_type": "markdown",
   "metadata": {},
   "source": [
    "## 20. Valid parentheses"
   ]
  },
  {
   "cell_type": "code",
   "execution_count": 13,
   "metadata": {},
   "outputs": [
    {
     "data": {
      "text/plain": [
       "False"
      ]
     },
     "execution_count": 13,
     "metadata": {},
     "output_type": "execute_result"
    }
   ],
   "source": [
    "def isValid(self, s: str) -> bool:\n",
    "    stack = []\n",
    "    paren_dict = {\n",
    "        ')':'(',\n",
    "        ']':'[',\n",
    "        '}':'{',\n",
    "    }\n",
    "\n",
    "    # use stack to track opened and closed parenthes\n",
    "    # should be empty at end\n",
    "    for p in s:\n",
    "        # open parentheses: (,[,{ --> stack\n",
    "        if p in paren_dict.values():\n",
    "            stack.append(p)\n",
    "        # close parentheses: ),],} --> unstack if match\n",
    "        if p in paren_dict.keys():\n",
    "            # check that stack has elt (an opern parenth)\n",
    "            # otherwise, already unmatched closing parenth\n",
    "            if stack:\n",
    "                peek = stack[-1]\n",
    "                if paren_dict[p] == peek:\n",
    "                    stack.pop()\n",
    "                else:\n",
    "                    return False\n",
    "            else:\n",
    "                return False \n",
    "    # if stack empty -> true, else -> odd number of parentheses\n",
    "    return not stack"
   ]
  },
  {
   "cell_type": "markdown",
   "metadata": {},
   "source": [
    "## 94. BT Inorder Traversal"
   ]
  },
  {
   "cell_type": "code",
   "execution_count": null,
   "metadata": {},
   "outputs": [],
   "source": [
    "def inorderTraversal(root: Optional[TreeNode]) -> List[int]:\n",
    "        result = []\n",
    "        stack = []\n",
    "        current = root\n",
    "        \n",
    "        while current is not None or stack:\n",
    "            # Reach the leftmost node of the current node\n",
    "            # appending all traversed to stack (for backtracking)\n",
    "            while current is not None:\n",
    "                stack.append(current)\n",
    "                # print('stack',stack)\n",
    "                current = current.left\n",
    "            \n",
    "            # Current must be None at this point\n",
    "            # i.e. reached a terminal node\n",
    "            current = stack.pop()\n",
    "            # print('popped',current)\n",
    "            result.append(current.val)\n",
    "            # print('result',result)\n",
    "            \n",
    "            # We have visited the node and its left subtree\n",
    "            # Now, it's right subtree's turn\n",
    "            current = current.right\n",
    "        \n",
    "        return result"
   ]
  },
  {
   "cell_type": "markdown",
   "metadata": {},
   "source": [
    "## 144. BT Preorder traversal"
   ]
  },
  {
   "cell_type": "code",
   "execution_count": null,
   "metadata": {},
   "outputs": [],
   "source": [
    "def preorderTraversal(self, root: Optional[TreeNode]) -> List[int]:\n",
    "        result = []\n",
    "        stack = []\n",
    "        current = root\n",
    "        \n",
    "        while current is not None or stack:\n",
    "            # Reach the leftmost node of the current node\n",
    "            while current is not None:\n",
    "                stack.append(current.right) # append right to stack for backtracking\n",
    "                result.append(current.val) # append self\n",
    "                # print('stack',stack,'result',result)\n",
    "                current = current.left # then go left\n",
    "            \n",
    "            # Current must be None at this point, revert to stack\n",
    "            current = stack.pop()\n",
    "        \n",
    "        return result"
   ]
  },
  {
   "cell_type": "markdown",
   "metadata": {},
   "source": [
    "## 145. BT Post order traversal"
   ]
  },
  {
   "cell_type": "code",
   "execution_count": null,
   "metadata": {},
   "outputs": [],
   "source": [
    "def postorderTraversal(self, root: Optional[TreeNode]) -> List[int]:\n",
    "        result = []\n",
    "        stack = []\n",
    "        last_visited = None\n",
    "        current = root\n",
    "        # left -> right -> self\n",
    "        while current is not None or stack:\n",
    "            while current is not None:\n",
    "                stack.append(current)\n",
    "                current = current.left\n",
    "                \n",
    "            peek_node = stack[-1]\n",
    "            # If right child exists and traversing node from left child, then move to right child\n",
    "            if peek_node.right is not None and last_visited != peek_node.right:\n",
    "                current = peek_node.right\n",
    "            else:\n",
    "                result.append(peek_node.val)\n",
    "                last_visited = stack.pop()\n",
    "                current = None\n",
    "        \n",
    "        return result"
   ]
  },
  {
   "cell_type": "markdown",
   "metadata": {},
   "source": [
    "## 102. BT Level order traversal"
   ]
  },
  {
   "cell_type": "code",
   "execution_count": null,
   "metadata": {},
   "outputs": [],
   "source": [
    "def levelOrder(self, root: Optional[TreeNode]) -> List[List[int]]:\n",
    "    result = []\n",
    "    queue = [] # treat list as q with append pop(0) other end\n",
    "    current = root\n",
    "    # enque root\n",
    "    queue.append(current)\n",
    "    # deque next--> enque L, R nodes, repeat till empty queue\n",
    "    # add another loop to define end of layer\n",
    "    while current is not None and queue:\n",
    "        # define level size based on queue\n",
    "        level_size = len(queue) \n",
    "        level_nodes = []\n",
    "        # print('queue', queue, 'level size', level_size)\n",
    "        # references how many values have been added from last iteration to define level size\n",
    "        for i in range(0,level_size):\n",
    "            current = queue.pop(0)\n",
    "            level_nodes.append(current.val)\n",
    "            if current.left:\n",
    "                queue.append(current.left)\n",
    "            if current.right:\n",
    "                queue.append(current.right)\n",
    "        result.append(level_nodes)\n",
    "    return result"
   ]
  },
  {
   "cell_type": "markdown",
   "metadata": {},
   "source": [
    "## 226. BT tree inversion"
   ]
  },
  {
   "cell_type": "code",
   "execution_count": null,
   "metadata": {},
   "outputs": [],
   "source": [
    "def invertTree(self, root: Optional[TreeNode]) -> Optional[TreeNode]:\n",
    "        if root:\n",
    "            # traverse tree using post-order (bottom up ish)\n",
    "            stack = []\n",
    "            last_visited = None\n",
    "            current = root\n",
    "            # left -> right -> self\n",
    "            while current is not None or stack:\n",
    "                while current is not None:\n",
    "                    stack.append(current)\n",
    "                    current = current.left\n",
    "                peek_node = stack[-1]\n",
    "                # If right child exists and traversing node from left child, then move to right child\n",
    "                if peek_node.right is not None and last_visited != peek_node.right:\n",
    "                    current = peek_node.right\n",
    "                else:\n",
    "                    # instead of adding to result,\n",
    "                    # reverse children nodes if at least 1 child\n",
    "                    if peek_node.left or peek_node.right:\n",
    "                        temp = peek_node.left\n",
    "                        peek_node.left = peek_node.right\n",
    "                        peek_node.right = temp\n",
    "                    # and remove\n",
    "                    last_visited = stack.pop()\n",
    "                    current = None\n",
    "        return root"
   ]
  },
  {
   "cell_type": "markdown",
   "metadata": {},
   "source": [
    "## DP probs"
   ]
  },
  {
   "cell_type": "code",
   "execution_count": null,
   "metadata": {},
   "outputs": [],
   "source": [
    "# longest increasing substring\n",
    "def lengthOfLIS(self, nums: List[int]) -> int:\n",
    "        # \n",
    "        n = len(nums)\n",
    "        # track longest subseq that includes each index\n",
    "        LIS = [1] * n # initialize longest subseq for each index as 1 (just itslef)\n",
    "        \n",
    "        # loop through all nums but first\n",
    "        for i in range(1,n):\n",
    "            # and compare to previous numbers\n",
    "            for j in range(0,i):\n",
    "                # if num > previous\n",
    "                if nums[i] > nums[j]:\n",
    "                    # choose either current max, or add i to longest subseq\n",
    "                    LIS[i] = max(LIS[i], LIS[j] + 1)\n",
    "        return max(LIS)"
   ]
  },
  {
   "cell_type": "code",
   "execution_count": null,
   "metadata": {},
   "outputs": [],
   "source": [
    "# coin change\n",
    "def coinChange(self, coins: List[int], amount: int) -> int:\n",
    "        # minimum number of coins to make up amount\n",
    "\n",
    "        # init array to count number of coins than needed for each amount (subproblem), \n",
    "        # from 0 to amount => len(amount + 1)\n",
    "        # decrease with DP to find minima\n",
    "        change = [amount + 1] * (amount + 1)\n",
    "        change[0] = 0 # when amount is 0, # coins also 0\n",
    "        \n",
    "        # for each denomination\n",
    "        for coin in coins:\n",
    "            for i in range(coin, amount + 1):\n",
    "                # update amount change needed for amount i,\n",
    "                # if change needed for i - coin is smaller, return that and add coin...\n",
    "                change[i] =  min(change[i], change[i - coin] + 1)\n",
    "                \n",
    "        # print('change array', change) \n",
    "\n",
    "        return change[amount] if change[amount] <= amount else -1"
   ]
  },
  {
   "cell_type": "markdown",
   "metadata": {},
   "source": [
    "## graph/network"
   ]
  },
  {
   "cell_type": "markdown",
   "metadata": {},
   "source": []
  }
 ],
 "metadata": {
  "kernelspec": {
   "display_name": "Python 3",
   "language": "python",
   "name": "python3"
  },
  "language_info": {
   "codemirror_mode": {
    "name": "ipython",
    "version": 3
   },
   "file_extension": ".py",
   "mimetype": "text/x-python",
   "name": "python",
   "nbconvert_exporter": "python",
   "pygments_lexer": "ipython3",
   "version": "3.10.11"
  }
 },
 "nbformat": 4,
 "nbformat_minor": 2
}
